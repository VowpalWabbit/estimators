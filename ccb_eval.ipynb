{
 "cells": [
  {
   "cell_type": "markdown",
   "id": "8ec8cbb8-b8b9-43c4-b711-1ccb0a6e3a57",
   "metadata": {},
   "source": [
    "# Simple test"
   ]
  },
  {
   "cell_type": "code",
   "execution_count": null,
   "id": "7c51bc5a-61e7-47a5-b44b-ee77254eeae9",
   "metadata": {},
   "outputs": [],
   "source": [
    "from estimators.ccb import pdis_cressieread\n",
    "from estimators.bandits import snips\n",
    "from estimators.bandits import clopper_pearson\n",
    "\n",
    "cb_est = snips.Estimator()\n",
    "cb_int = clopper_pearson.Interval()\n",
    "\n",
    "ccb_est = pdis_cressieread.Estimator()\n",
    "ccb_int = pdis_cressieread.Interval()"
   ]
  },
  {
   "cell_type": "code",
   "execution_count": null,
   "id": "bfb06f8b-e18f-4c86-8478-c60be8ec983f",
   "metadata": {},
   "outputs": [],
   "source": [
    "ccb_est.add_example([0.1, 0.1, 0.1], [1,2,3], [0.5, 0.5, 0.5])\n",
    "print(f'estimate: {ccb_est.get()}')\n",
    "\n",
    "ccb_int.add_example([0.1, 0.1, 0.1], [1,2,3], [0.5, 0.5, 0.5])\n",
    "print(f'interval: {ccb_int.get()}')"
   ]
  },
  {
   "cell_type": "code",
   "execution_count": null,
   "id": "9e82aec3",
   "metadata": {
    "collapsed": false,
    "pycharm": {
     "name": "#%%\n"
    }
   },
   "outputs": [],
   "source": [
    "                #action 0           #action 1\n",
    "# slot 0           1                    0\n",
    "# slot 1           0                    0.8\n",
    "ccb_est = pdis_cressieread.Estimator()\n",
    "epsilon = 0.1\n",
    "for i in range(1000):\n",
    "    ccb_est.add_example(\n",
    "        p_preds = [1 - epsilon if i%2 else epsilon, 1],\n",
    "        rs = [i % 2, 0.8 * (i % 2)],\n",
    "        p_logs = [0.5, 1])\n",
    "print(f'estimate: {ccb_est.get()}')"
   ]
  },
  {
   "cell_type": "markdown",
   "id": "7983d7ab-432d-4fd3-a9a8-ac763ec911f8",
   "metadata": {},
   "source": [
    "# Simulator"
   ]
  },
  {
   "cell_type": "code",
   "execution_count": null,
   "id": "743191bd-6334-4b4f-970c-d488f272789b",
   "metadata": {},
   "outputs": [],
   "source": [
    "# a0, a1, a2\n",
    "# s0, s1\n",
    "\n",
    "# matrix of rewards r_ij (i is 0,1, j is 0,1,2)\n",
    "# online policy: epsilon greedy \n",
    "\n",
    "import numpy as np\n",
    "import random\n",
    "import pandas as pd\n",
    "\n",
    "class EpsilonGreedy:\n",
    "    def __init__(self, epsilon):\n",
    "        self.epsilon = epsilon\n",
    "\n",
    "    def explore(self, n):\n",
    "        return self.epsilon / n\n",
    "\n",
    "    def exploit(self, n):\n",
    "        return self.epsilon / n + 1 - self.epsilon\n",
    "\n",
    "def baseline_random(n):\n",
    "    return [(1/n, baseline_random(n-1)) for _ in range(n)]\n",
    "\n",
    "def baseline_1(n, excl=[]):\n",
    "    def _idx_2_id(i, excl):\n",
    "        return sorted(set(range(n + len(excl))) - set(excl))[i]\n",
    "    if len(excl) in excl:\n",
    "        return [(0, baseline_1(n-1, excl + [_idx_2_id(i, excl)])) for i in range(n)]\n",
    "    else:\n",
    "        return [(int(_idx_2_id(i, excl) == len(excl)), baseline_1(n-1, excl + [_idx_2_id(i, excl)]))  for i in range(n)]\n",
    "\n",
    "class Traffic:\n",
    "    def __init__(self, rewards, policy, prob = 1):\n",
    "        self.rewards = rewards\n",
    "        self.policy = policy\n",
    "        self.prob = prob\n",
    "\n",
    "class CcbSimulation(pd.DataFrame):\n",
    "    def __init__(self, n, traffic: list):\n",
    "        slots = []\n",
    "        traffic_pmf = [t.prob for t in traffic]\n",
    "        for i in range(n):\n",
    "            traffic_idx = np.random.choice(range(len(traffic_pmf)), p=traffic_pmf)\n",
    "            rewards = traffic[traffic_idx].rewards\n",
    "            nactions = len(rewards[0])\n",
    "            nslots = len(rewards)\n",
    "            actions = list(range(nactions))\n",
    "            state = traffic[traffic_idx].policy\n",
    "            for j in range(nslots):\n",
    "                pmf = [a[0] for a in state]\n",
    "                chosen_idx = np.random.choice(range(len(pmf)), p=pmf)\n",
    "                chosen = actions[chosen_idx]\n",
    "                state = state[chosen_idx][1]\n",
    "                r = int(random.random() < rewards[j][chosen])\n",
    "                actions = sorted(set(actions) - {actions[chosen_idx]})\n",
    "                slots.append({'session': i, 'slot': j, 'p_log': pmf[chosen_idx], 'r': r, 'chosen': chosen, 'chosen_idx': chosen_idx})\n",
    "        super().__init__(slots)\n",
    "\n",
    "    def predict(self, policy):\n",
    "        p_pred = []\n",
    "        for _, e in self.sessions.iterrows():\n",
    "            state = policy\n",
    "            for i in range(len(e['p_log'])):\n",
    "                pmf = [a[0] for a in state]\n",
    "                chosen_idx = e['chosen_idx'][i]\n",
    "                p_pred.append(pmf[chosen_idx])\n",
    "                state = state[chosen_idx][1]\n",
    "        self['p_pred'] = p_pred\n",
    "\n",
    "    def cfe(self, alpha=0.05):\n",
    "        nslots = self['slot'].max() + 1\n",
    "        cb_est = [snips.Estimator() for i in range(nslots)]\n",
    "        cb_int = [clopper_pearson.Interval() for i in range(nslots)]\n",
    "\n",
    "        ccb_est = pdis_cressieread.Estimator()\n",
    "        ccb_int = pdis_cressieread.Interval()\n",
    "\n",
    "        for _, e  in self.sessions.iterrows():\n",
    "            for i in range(len(e['p_pred'])):\n",
    "                cb_est[i].add_example(p_pred=e['p_pred'][i], r=e['r'][i], p_log=e['p_log'][i])\n",
    "                cb_int[i].add_example(p_pred=e['p_pred'][i], r=e['r'][i], p_log=e['p_log'][i])\n",
    "\n",
    "            ccb_int.add_example(p_preds=e['p_pred'], rs=e['r'], p_logs=e['p_log'])\n",
    "            ccb_est.add_example(p_preds=e['p_pred'], rs=e['r'], p_logs=e['p_log'])\n",
    "\n",
    "        cb_int_results = [i.get(alpha) for i in cb_int]\n",
    "        ccb_int_result = ccb_int.get(alpha)\n",
    "\n",
    "        ccb_est_result = ccb_est.get()\n",
    "        result = pd.DataFrame([\n",
    "                dict({'name': 'cb', 'metric': 'est'}, **{f'slot_{i}': cb_est[i].get() for i in range(nslots)}),\n",
    "                dict({'name': 'cb', 'metric': 'lb'}, **{f'slot_{i}': cb_int_results[i][0] for i in range(nslots)}),\n",
    "                dict({'name': 'cb', 'metric': 'ub'}, **{f'slot_{i}': cb_int_results[i][1] for i in range(nslots)}),\n",
    "                dict({'name': 'ccb', 'metric': 'est'}, **{f'slot_{i}': ccb_est_result[i] for i in range(nslots)}),\n",
    "                dict({'name': 'ccb', 'metric': 'lb'}, **{f'slot_{i}': ccb_int_result[i][0] for i in range(nslots)}),\n",
    "                dict({'name': 'ccb', 'metric': 'ub'}, **{f'slot_{i}': ccb_int_result[i][1] for i in range(nslots)}),\n",
    "        ])\n",
    "        result['all_slots'] = result['slot_0'] + result['slot_1']\n",
    "        return result.set_index(['name', 'metric'])\n",
    "\n",
    "    @property\n",
    "    def sessions(self):\n",
    "        agg = {'p_log': list, 'r': list, 'chosen': list, 'chosen_idx': list}\n",
    "        if 'p_pred' in self.columns:\n",
    "            agg['p_pred'] = list\n",
    "        return self.groupby('session').agg(agg)"
   ]
  },
  {
   "cell_type": "markdown",
   "id": "b81d377d",
   "metadata": {
    "collapsed": false,
    "pycharm": {
     "name": "#%% md\n"
    }
   },
   "source": [
    "## No slot dependencies"
   ]
  },
  {
   "cell_type": "code",
   "execution_count": null,
   "id": "d5d0c85d",
   "metadata": {
    "collapsed": false,
    "pycharm": {
     "name": "#%%\n"
    }
   },
   "outputs": [],
   "source": [
    "epsilon = 0.2\n",
    "\n",
    "rewards = np.array([\n",
    "    [0.4, 0.8, 0.2],\n",
    "    [0.4, 0.8, 0.2]])\n",
    "\n",
    "eg = EpsilonGreedy(epsilon)\n",
    "epsilon_greedy = [\n",
    "    (eg.explore(3), [               #0\n",
    "        (eg.exploit(2), []),        #1\n",
    "        (eg.explore(2), []),        #2\n",
    "    ]),\n",
    "    (eg.exploit(3), [               #1\n",
    "        (eg.exploit(2), []),        #0\n",
    "        (eg.explore(2), []),        #2\n",
    "    ]),\n",
    "    (eg.explore(3), [               #2\n",
    "        (eg.explore(2), []),        #0\n",
    "        (eg.exploit(2), []),        #1\n",
    "    ])\n",
    "]"
   ]
  },
  {
   "cell_type": "code",
   "execution_count": null,
   "id": "42ffaff2",
   "metadata": {
    "collapsed": false,
    "pycharm": {
     "name": "#%%\n"
    }
   },
   "outputs": [],
   "source": [
    "rewards = np.array([\n",
    "    [0.4, 0.8, 0.2],\n",
    "    [0.4, 0.8, 0.2]])\n",
    "\n",
    "n = 10000\n",
    "sim_eg = CcbSimulation(n, [Traffic(rewards, epsilon_greedy)])\n",
    "sim_b1 = CcbSimulation(n, [Traffic(rewards, baseline_1(3))])\n",
    "sim_br = CcbSimulation(n, [Traffic(rewards, baseline_random(3))])"
   ]
  },
  {
   "cell_type": "code",
   "execution_count": null,
   "id": "53d731df",
   "metadata": {
    "collapsed": false,
    "pycharm": {
     "name": "#%%\n"
    }
   },
   "outputs": [],
   "source": [
    "simulation_stats = pd.DataFrame([\n",
    "    {'policy': f'epsilon-greedy({epsilon})', 'slot_0': sim_eg[sim_eg[\"slot\"]==0][\"r\"].mean(), 'slot_1': sim_eg[sim_eg[\"slot\"]==1][\"r\"].mean()},\n",
    "    {'policy': f'baseline_1', 'slot_0': sim_b1[sim_b1[\"slot\"]==0][\"r\"].mean(), 'slot_1': sim_b1[sim_b1[\"slot\"]==1][\"r\"].mean()},\n",
    "    {'policy': f'baseline_random', 'slot_0': sim_br[sim_br[\"slot\"]==0][\"r\"].mean(), 'slot_1': sim_br[sim_br[\"slot\"]==1][\"r\"].mean()},\n",
    "])\n",
    "simulation_stats['all_slots'] = simulation_stats['slot_0'] + simulation_stats['slot_1']\n",
    "simulation_stats"
   ]
  },
  {
   "cell_type": "code",
   "execution_count": null,
   "id": "88f3a1d0",
   "metadata": {
    "collapsed": false,
    "pycharm": {
     "name": "#%%\n"
    }
   },
   "outputs": [],
   "source": [
    "sim_br.predict(epsilon_greedy)\n",
    "sim_br.cfe(alpha=0.05)"
   ]
  },
  {
   "cell_type": "code",
   "execution_count": null,
   "id": "d6b6bdf2",
   "metadata": {
    "collapsed": false,
    "pycharm": {
     "name": "#%%\n"
    }
   },
   "outputs": [],
   "source": [
    "sim_br.predict(baseline_1(3))\n",
    "sim_br.cfe(alpha=0.05)"
   ]
  },
  {
   "cell_type": "code",
   "execution_count": null,
   "id": "c020ad0d",
   "metadata": {
    "collapsed": false,
    "pycharm": {
     "name": "#%%\n"
    }
   },
   "outputs": [],
   "source": [
    "sim_br.predict(baseline_random(3))\n",
    "sim_br.cfe(alpha=0.05)"
   ]
  },
  {
   "cell_type": "code",
   "execution_count": null,
   "id": "81c0cd4f",
   "metadata": {
    "collapsed": false,
    "pycharm": {
     "name": "#%%\n"
    }
   },
   "outputs": [],
   "source": [
    "sim_eg.predict(epsilon_greedy)\n",
    "sim_eg.cfe(alpha=0.05)"
   ]
  },
  {
   "cell_type": "code",
   "execution_count": null,
   "id": "74a0b91d",
   "metadata": {
    "collapsed": false,
    "pycharm": {
     "name": "#%%\n"
    }
   },
   "outputs": [],
   "source": [
    "sim_eg.predict(baseline_1(3))\n",
    "sim_eg.cfe(alpha=0.05)"
   ]
  },
  {
   "cell_type": "code",
   "execution_count": null,
   "id": "6ac3766c",
   "metadata": {
    "collapsed": false,
    "pycharm": {
     "name": "#%%\n"
    }
   },
   "outputs": [],
   "source": [
    "sim_eg.predict(baseline_random(3))\n",
    "sim_eg.cfe(alpha=0.05)"
   ]
  },
  {
   "cell_type": "markdown",
   "id": "7ce0edb3",
   "metadata": {
    "collapsed": false,
    "pycharm": {
     "name": "#%% md\n"
    }
   },
   "source": [
    "## With slot dependencies"
   ]
  },
  {
   "cell_type": "code",
   "execution_count": null,
   "id": "753ca171",
   "metadata": {
    "collapsed": false,
    "pycharm": {
     "name": "#%%\n"
    }
   },
   "outputs": [],
   "source": [
    "epsilon = 0.2\n",
    "\n",
    "rewards = np.array([\n",
    "    [0.4, 0.8, 0.2],\n",
    "    [0.2, 0.4, 0.8]])\n",
    "\n",
    "eg = EpsilonGreedy(epsilon)\n",
    "epsilon_greedy = [\n",
    "    (eg.explore(3), [               #0\n",
    "        (eg.explore(2), []),        #1\n",
    "        (eg.exploit(2), []),        #2\n",
    "    ]),\n",
    "    (eg.exploit(3), [               #1\n",
    "        (eg.explore(2), []),        #0\n",
    "        (eg.exploit(2), []),        #2\n",
    "    ]),\n",
    "    (eg.explore(3), [               #2\n",
    "        (eg.explore(2), []),        #0\n",
    "        (eg.exploit(2), []),        #1\n",
    "    ])\n",
    "]"
   ]
  },
  {
   "cell_type": "code",
   "execution_count": null,
   "id": "bbc47e53",
   "metadata": {
    "collapsed": false,
    "pycharm": {
     "name": "#%%\n"
    }
   },
   "outputs": [],
   "source": [
    "n = 10000\n",
    "sim_eg = CcbSimulation(n, [Traffic(rewards, epsilon_greedy)])\n",
    "sim_b1 = CcbSimulation(n, [Traffic(rewards, baseline_1(3))])\n",
    "sim_br = CcbSimulation(n, [Traffic(rewards, baseline_random(3))])"
   ]
  },
  {
   "cell_type": "code",
   "execution_count": null,
   "id": "449c5e76",
   "metadata": {
    "collapsed": false,
    "pycharm": {
     "name": "#%%\n"
    }
   },
   "outputs": [],
   "source": [
    "simulation_stats = pd.DataFrame([\n",
    "    {'policy': f'epsilon-greedy({epsilon})', 'slot_0': sim_eg[sim_eg[\"slot\"]==0][\"r\"].mean(), 'slot_1': sim_eg[sim_eg[\"slot\"]==1][\"r\"].mean()},\n",
    "    {'policy': f'baseline_1', 'slot_0': sim_b1[sim_b1[\"slot\"]==0][\"r\"].mean(), 'slot_1': sim_b1[sim_b1[\"slot\"]==1][\"r\"].mean()},\n",
    "    {'policy': f'baseline_random', 'slot_0': sim_br[sim_br[\"slot\"]==0][\"r\"].mean(), 'slot_1': sim_br[sim_br[\"slot\"]==1][\"r\"].mean()},\n",
    "])\n",
    "simulation_stats['all_slots'] = simulation_stats['slot_0'] + simulation_stats['slot_1']\n",
    "simulation_stats"
   ]
  },
  {
   "cell_type": "code",
   "execution_count": null,
   "id": "676db9c1",
   "metadata": {
    "collapsed": false,
    "pycharm": {
     "name": "#%%\n"
    }
   },
   "outputs": [],
   "source": [
    "sim_br.predict(epsilon_greedy)\n",
    "sim_br.cfe(alpha=0.05)"
   ]
  },
  {
   "cell_type": "code",
   "execution_count": null,
   "id": "d4019e14",
   "metadata": {
    "collapsed": false,
    "pycharm": {
     "name": "#%%\n"
    }
   },
   "outputs": [],
   "source": [
    "sim_br.predict(baseline_1(3))\n",
    "sim_br.cfe(alpha=0.05)"
   ]
  },
  {
   "cell_type": "code",
   "execution_count": null,
   "id": "373a79bb",
   "metadata": {
    "collapsed": false,
    "pycharm": {
     "name": "#%%\n"
    }
   },
   "outputs": [],
   "source": [
    "sim_br.predict(baseline_random(3))\n",
    "sim_br.cfe(alpha=0.05)"
   ]
  },
  {
   "cell_type": "code",
   "execution_count": null,
   "id": "555cb204",
   "metadata": {
    "collapsed": false,
    "pycharm": {
     "name": "#%%\n"
    }
   },
   "outputs": [],
   "source": [
    "sim_eg.predict(epsilon_greedy)\n",
    "sim_eg.cfe(alpha=0.05)"
   ]
  },
  {
   "cell_type": "code",
   "execution_count": null,
   "id": "00fed98e",
   "metadata": {
    "collapsed": false,
    "pycharm": {
     "name": "#%%\n"
    }
   },
   "outputs": [],
   "source": [
    "sim_eg.predict(baseline_1(3))\n",
    "sim_eg.cfe(alpha=0.05)"
   ]
  },
  {
   "cell_type": "code",
   "execution_count": null,
   "id": "43c9ddca",
   "metadata": {
    "collapsed": false,
    "pycharm": {
     "name": "#%%\n"
    }
   },
   "outputs": [],
   "source": [
    "sim_eg.predict(baseline_random(3))\n",
    "sim_eg.cfe(alpha=0.05)"
   ]
  },
  {
   "cell_type": "markdown",
   "id": "40997667",
   "metadata": {
    "collapsed": false,
    "pycharm": {
     "name": "#%% md\n"
    }
   },
   "source": [
    "## Locked content"
   ]
  },
  {
   "cell_type": "code",
   "execution_count": null,
   "id": "14c1e7d2",
   "metadata": {
    "collapsed": false,
    "pycharm": {
     "name": "#%%\n"
    }
   },
   "outputs": [],
   "source": [
    "epsilon = 0.2\n",
    "\n",
    "rewards = np.array([\n",
    "    [0.4, 0.8, 0.2],\n",
    "    [0.4, 0.8, 0.2]])\n",
    "\n",
    "eg = EpsilonGreedy(epsilon)\n",
    "epsilon_greedy_lock0 = [\n",
    "    (0, [               #0\n",
    "        (eg.exploit(2), []),        #1\n",
    "        (eg.explore(2), []),        #2\n",
    "    ]),\n",
    "    (1, [               #1\n",
    "        (eg.exploit(2), []),        #0\n",
    "        (eg.explore(2), []),        #2\n",
    "    ]),\n",
    "    (0, [               #2\n",
    "        (eg.explore(2), []),        #0\n",
    "        (eg.exploit(2), []),        #1\n",
    "    ])\n",
    "]\n",
    "\n",
    "baseline_random_lock0 = [\n",
    "    (0, [\n",
    "        (1/2, []),\n",
    "        (1/2, []),\n",
    "    ]),\n",
    "    (1, [\n",
    "        (1/2, []),\n",
    "        (1/2, []),\n",
    "    ]),\n",
    "    (0, [\n",
    "        (1/2, []),\n",
    "        (1/2, []),\n",
    "    ])\n",
    "]\n",
    "\n",
    "baseline_1_lock0 = [\n",
    "    (0, [\n",
    "        (0, []),\n",
    "        (0, []),\n",
    "    ]),\n",
    "    (1, [\n",
    "        (1, []),\n",
    "        (0, []),\n",
    "    ]),\n",
    "    (0, [\n",
    "        (1, []),\n",
    "        (0, []),\n",
    "    ])\n",
    "]"
   ]
  },
  {
   "cell_type": "code",
   "execution_count": null,
   "id": "38de217d",
   "metadata": {
    "collapsed": false,
    "pycharm": {
     "name": "#%%\n"
    }
   },
   "outputs": [],
   "source": [
    "n = 10000\n",
    "sim_eg_lock0 = CcbSimulation(n, [Traffic(rewards, epsilon_greedy_lock0)])\n",
    "sim_b1 = CcbSimulation(n, [Traffic(rewards, baseline_1_lock0)])\n",
    "sim_br = CcbSimulation(n, [Traffic(rewards, baseline_random_lock0)])"
   ]
  },
  {
   "cell_type": "code",
   "execution_count": null,
   "id": "415ae8e7",
   "metadata": {
    "collapsed": false,
    "pycharm": {
     "name": "#%%\n"
    }
   },
   "outputs": [],
   "source": [
    "simulation_stats = pd.DataFrame([\n",
    "    {'policy': f'epsilon-greedy_lock0({epsilon})', 'slot_0': sim_eg_lock0[sim_eg_lock0[\"slot\"]==0][\"r\"].mean(), 'slot_1': sim_eg_lock0[sim_eg_lock0[\"slot\"]==1][\"r\"].mean()},\n",
    "    {'policy': f'baseline_1', 'slot_0': sim_b1[sim_b1[\"slot\"]==0][\"r\"].mean(), 'slot_1': sim_b1[sim_b1[\"slot\"]==1][\"r\"].mean()},\n",
    "    {'policy': f'baseline_random', 'slot_0': sim_br[sim_br[\"slot\"]==0][\"r\"].mean(), 'slot_1': sim_br[sim_br[\"slot\"]==1][\"r\"].mean()},\n",
    "])\n",
    "simulation_stats['all_slots'] = simulation_stats['slot_0'] + simulation_stats['slot_1']\n",
    "simulation_stats"
   ]
  },
  {
   "cell_type": "code",
   "execution_count": null,
   "id": "cac02453",
   "metadata": {
    "collapsed": false,
    "pycharm": {
     "name": "#%%\n"
    }
   },
   "outputs": [],
   "source": [
    "sim_eg_lock0.predict(epsilon_greedy_lock0)\n",
    "sim_eg_lock0.cfe(alpha=0.05)"
   ]
  },
  {
   "cell_type": "code",
   "execution_count": null,
   "id": "a67ee050",
   "metadata": {
    "collapsed": false,
    "pycharm": {
     "name": "#%%\n"
    }
   },
   "outputs": [],
   "source": [
    "sim_eg_lock0.predict(baseline_1_lock0)\n",
    "sim_eg_lock0.cfe(alpha=0.05)"
   ]
  },
  {
   "cell_type": "code",
   "execution_count": null,
   "id": "fbb1f510",
   "metadata": {
    "collapsed": false,
    "pycharm": {
     "name": "#%%\n"
    }
   },
   "outputs": [],
   "source": [
    "sim_eg_lock0.predict(baseline_random_lock0)\n",
    "sim_eg_lock0.cfe(alpha=0.05)"
   ]
  },
  {
   "cell_type": "markdown",
   "id": "7f075271",
   "metadata": {
    "collapsed": false,
    "pycharm": {
     "name": "#%% md\n"
    }
   },
   "source": [
    "## Variable slots count"
   ]
  },
  {
   "cell_type": "code",
   "execution_count": null,
   "id": "3f78ca1e",
   "metadata": {
    "collapsed": false,
    "pycharm": {
     "name": "#%%\n"
    }
   },
   "outputs": [],
   "source": [
    "epsilon = 0.2\n",
    "\n",
    "rewards_1 = np.array([\n",
    "    [0.8, 0.4]])\n",
    "\n",
    "rewards_2 = np.array([\n",
    "    [0.8, 0.4],\n",
    "    [0.2, 0.8]])\n",
    "\n",
    "eg = EpsilonGreedy(epsilon)\n",
    "\n",
    "epsilon_greedy = [\n",
    "    (eg.exploit(2), [\n",
    "        (1, [])\n",
    "    ]),\n",
    "    (eg.explore(2), [\n",
    "        (1, [])\n",
    "    ])\n",
    "]"
   ]
  },
  {
   "cell_type": "code",
   "execution_count": null,
   "id": "560df604",
   "metadata": {
    "collapsed": false,
    "pycharm": {
     "name": "#%%\n"
    }
   },
   "outputs": [],
   "source": [
    "n = 10000\n",
    "sim_eg = CcbSimulation(n, [Traffic(rewards_1, epsilon_greedy, 0.5), Traffic(rewards_2, epsilon_greedy, 0.5)])\n",
    "sim_b1 = CcbSimulation(n, [Traffic(rewards_1, baseline_1(2), 0.5), Traffic(rewards_2, baseline_1(2), 0.5)])\n",
    "sim_br = CcbSimulation(n, [Traffic(rewards_1, baseline_random(2), 0.5), Traffic(rewards_2, baseline_random(2), 0.5)])"
   ]
  },
  {
   "cell_type": "code",
   "execution_count": null,
   "id": "d71ba9a9",
   "metadata": {
    "collapsed": false,
    "pycharm": {
     "name": "#%%\n"
    }
   },
   "outputs": [],
   "source": [
    "simulation_stats = pd.DataFrame([\n",
    "    {'policy': f'epsilon-greedy({epsilon})', 'slot_0': sim_eg[sim_eg[\"slot\"]==0][\"r\"].mean(), 'slot_1': sim_eg[sim_eg[\"slot\"]==1][\"r\"].mean()},\n",
    "    {'policy': f'baseline_1', 'slot_0': sim_b1[sim_b1[\"slot\"]==0][\"r\"].mean(), 'slot_1': sim_b1[sim_b1[\"slot\"]==1][\"r\"].mean()},\n",
    "    {'policy': f'baseline_random', 'slot_0': sim_br[sim_br[\"slot\"]==0][\"r\"].mean(), 'slot_1': sim_br[sim_br[\"slot\"]==1][\"r\"].mean()},\n",
    "])\n",
    "simulation_stats['all_slots'] = simulation_stats['slot_0'] + simulation_stats['slot_1']\n",
    "simulation_stats"
   ]
  },
  {
   "cell_type": "code",
   "execution_count": null,
   "id": "f89ab64d",
   "metadata": {
    "collapsed": false,
    "pycharm": {
     "name": "#%%\n"
    }
   },
   "outputs": [],
   "source": [
    "sim_eg.predict(baseline_random(2))\n",
    "sim_eg.cfe(alpha=0.05)"
   ]
  },
  {
   "cell_type": "code",
   "execution_count": null,
   "id": "7e06679f",
   "metadata": {
    "collapsed": false,
    "pycharm": {
     "name": "#%%\n"
    }
   },
   "outputs": [],
   "source": [
    "sim_eg.predict(baseline_1(2))\n",
    "sim_eg.cfe(alpha=0.05)"
   ]
  },
  {
   "cell_type": "code",
   "execution_count": null,
   "id": "9e69f4d6",
   "metadata": {
    "collapsed": false,
    "pycharm": {
     "name": "#%%\n"
    }
   },
   "outputs": [],
   "source": [
    "sim_eg.predict(epsilon_greedy)\n",
    "sim_eg.cfe(alpha=0.05)"
   ]
  },
  {
   "cell_type": "code",
   "execution_count": null,
   "id": "b251e7d8",
   "metadata": {
    "collapsed": false,
    "pycharm": {
     "name": "#%%\n"
    }
   },
   "outputs": [],
   "source": []
  }
 ],
 "metadata": {
  "kernelspec": {
   "display_name": "Python 3 (ipykernel)",
   "language": "python",
   "name": "python3"
  },
  "language_info": {
   "codemirror_mode": {
    "name": "ipython",
    "version": 3
   },
   "file_extension": ".py",
   "mimetype": "text/x-python",
   "name": "python",
   "nbconvert_exporter": "python",
   "pygments_lexer": "ipython3",
   "version": "3.9.5"
  }
 },
 "nbformat": 4,
 "nbformat_minor": 5
}
