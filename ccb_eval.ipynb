{
 "cells": [
  {
   "cell_type": "markdown",
   "id": "8ec8cbb8-b8b9-43c4-b711-1ccb0a6e3a57",
   "metadata": {},
   "source": [
    "# Simple test"
   ]
  },
  {
   "cell_type": "code",
   "execution_count": 1,
   "id": "7c51bc5a-61e7-47a5-b44b-ee77254eeae9",
   "metadata": {},
   "outputs": [],
   "source": [
    "from estimators.ccb import pdis_cressieread\n",
    "from estimators.bandits import snips\n",
    "from estimators.bandits import clopper_pearson\n",
    "\n",
    "cb_est = snips.Estimator()\n",
    "cb_int = clopper_pearson.Interval()\n",
    "\n",
    "ccb_est = pdis_cressieread.Estimator()\n",
    "ccb_int = pdis_cressieread.Interval()"
   ]
  },
  {
   "cell_type": "code",
   "execution_count": 2,
   "id": "bfb06f8b-e18f-4c86-8478-c60be8ec983f",
   "metadata": {},
   "outputs": [
    {
     "name": "stdout",
     "output_type": "stream",
     "text": [
      "estimate: [1.0, 2.0, 3.0000000000000426]\n",
      "interval: [[0, 1], [0, 1], [0, 1]]\n"
     ]
    }
   ],
   "source": [
    "ccb_est.add_example([0.1, 0.1, 0.1], [1,2,3], [0.5, 0.5, 0.5])\n",
    "print(f'estimate: {ccb_est.get()}')\n",
    "\n",
    "ccb_int.add_example([0.1, 0.1, 0.1], [1,2,3], [0.5, 0.5, 0.5])\n",
    "print(f'interval: {ccb_int.get()}')"
   ]
  },
  {
   "cell_type": "code",
   "execution_count": 3,
   "id": "9e82aec3",
   "metadata": {
    "collapsed": false,
    "pycharm": {
     "name": "#%%\n"
    }
   },
   "outputs": [
    {
     "name": "stdout",
     "output_type": "stream",
     "text": [
      "estimate: [0.900224424911165, 0.7201795399289322]\n"
     ]
    }
   ],
   "source": [
    "                #action 0           #action 1\n",
    "# slot 0           1                    0\n",
    "# slot 1           0                    0.8\n",
    "ccb_est = pdis_cressieread.Estimator()\n",
    "epsilon = 0.1\n",
    "for i in range(1000):\n",
    "    ccb_est.add_example(\n",
    "        p_preds = [1 - epsilon if i%2 else epsilon, 1],\n",
    "        rs = [i % 2, 0.8 * (i % 2)],\n",
    "        p_logs = [0.5, 1])\n",
    "print(f'estimate: {ccb_est.get()}')"
   ]
  },
  {
   "cell_type": "markdown",
   "id": "7983d7ab-432d-4fd3-a9a8-ac763ec911f8",
   "metadata": {},
   "source": [
    "# Simulator"
   ]
  },
  {
   "cell_type": "code",
   "execution_count": 4,
   "id": "743191bd-6334-4b4f-970c-d488f272789b",
   "metadata": {},
   "outputs": [],
   "source": [
    "# a0, a1, a2\n",
    "# s0, s1\n",
    "\n",
    "# matrix of rewards r_ij (i is 0,1, j is 0,1,2)\n",
    "# online policy: epsilon greedy \n",
    "\n",
    "import numpy as np\n",
    "import random\n",
    "import pandas as pd\n",
    "\n",
    "class EpsilonGreedy:\n",
    "    def __init__(self, epsilon):\n",
    "        self.epsilon = epsilon\n",
    "\n",
    "    def explore(self, n):\n",
    "        return self.epsilon / n\n",
    "\n",
    "    def exploit(self, n):\n",
    "        return self.epsilon / n + 1 - self.epsilon\n",
    "\n",
    "def baseline_random(n):\n",
    "    return [(1/n, baseline_random(n-1)) for _ in range(n)]\n",
    "\n",
    "def baseline_1(n, excl=[]):\n",
    "    def _idx_2_id(i, excl):\n",
    "        return sorted(set(range(n + len(excl))) - set(excl))[i]\n",
    "    if len(excl) in excl:\n",
    "        return [(0, baseline_1(n-1, excl + [_idx_2_id(i, excl)])) for i in range(n)]\n",
    "    else:\n",
    "        return [(int(_idx_2_id(i, excl) == len(excl)), baseline_1(n-1, excl + [_idx_2_id(i, excl)]))  for i in range(n)]\n",
    "\n",
    "class Traffic:\n",
    "    def __init__(self, rewards, policy, prob = 1):\n",
    "        self.rewards = rewards\n",
    "        self.policy = policy\n",
    "        self.prob = prob\n",
    "\n",
    "class CcbSimulation(pd.DataFrame):\n",
    "    def __init__(self, n, traffic: list):\n",
    "        slots = []\n",
    "        traffic_pmf = [t.prob for t in traffic]\n",
    "        for i in range(n):\n",
    "            traffic_idx = np.random.choice(range(len(traffic_pmf)), p=traffic_pmf)\n",
    "            rewards = traffic[traffic_idx].rewards\n",
    "            nactions = len(rewards[0])\n",
    "            nslots = len(rewards)\n",
    "            actions = list(range(nactions))\n",
    "            state = traffic[traffic_idx].policy\n",
    "            for j in range(nslots):\n",
    "                pmf = [a[0] for a in state]\n",
    "                chosen_idx = np.random.choice(range(len(pmf)), p=pmf)\n",
    "                chosen = actions[chosen_idx]\n",
    "                state = state[chosen_idx][1]\n",
    "                r = int(random.random() < rewards[j][chosen])\n",
    "                actions = sorted(set(actions) - {actions[chosen_idx]})\n",
    "                slots.append({'session': i, 'slot': j, 'p_log': pmf[chosen_idx], 'r': r, 'chosen': chosen, 'chosen_idx': chosen_idx})\n",
    "        super().__init__(slots)\n",
    "\n",
    "    def predict(self, policy):\n",
    "        p_pred = []\n",
    "        for _, e in self.sessions.iterrows():\n",
    "            state = policy\n",
    "            for i in range(len(e['p_log'])):\n",
    "                pmf = [a[0] for a in state]\n",
    "                chosen_idx = e['chosen_idx'][i]\n",
    "                p_pred.append(pmf[chosen_idx])\n",
    "                state = state[chosen_idx][1]\n",
    "        self['p_pred'] = p_pred\n",
    "\n",
    "    def cfe(self, alpha=0.05):\n",
    "        nslots = self['slot'].max() + 1\n",
    "        cb_est = [snips.Estimator() for i in range(nslots)]\n",
    "        cb_int = [clopper_pearson.Interval() for i in range(nslots)]\n",
    "\n",
    "        ccb_est = pdis_cressieread.Estimator()\n",
    "        ccb_int = pdis_cressieread.Interval()\n",
    "\n",
    "        for _, e  in self.sessions.iterrows():\n",
    "            for i in range(len(e['p_pred'])):\n",
    "                cb_est[i].add_example(p_pred=e['p_pred'][i], r=e['r'][i], p_log=e['p_log'][i])\n",
    "                cb_int[i].add_example(p_pred=e['p_pred'][i], r=e['r'][i], p_log=e['p_log'][i])\n",
    "\n",
    "            ccb_int.add_example(p_preds=e['p_pred'], rs=e['r'], p_logs=e['p_log'])\n",
    "            ccb_est.add_example(p_preds=e['p_pred'], rs=e['r'], p_logs=e['p_log'])\n",
    "\n",
    "        cb_int_results = [i.get(alpha) for i in cb_int]\n",
    "        ccb_int_result = ccb_int.get(alpha)\n",
    "\n",
    "        ccb_est_result = ccb_est.get()\n",
    "        result = pd.DataFrame([\n",
    "                dict({'name': 'cb', 'metric': 'est'}, **{f'slot_{i}': cb_est[i].get() for i in range(nslots)}),\n",
    "                dict({'name': 'cb', 'metric': 'lb'}, **{f'slot_{i}': cb_int_results[i][0] for i in range(nslots)}),\n",
    "                dict({'name': 'cb', 'metric': 'ub'}, **{f'slot_{i}': cb_int_results[i][1] for i in range(nslots)}),\n",
    "                dict({'name': 'ccb', 'metric': 'est'}, **{f'slot_{i}': ccb_est_result[i] for i in range(nslots)}),\n",
    "                dict({'name': 'ccb', 'metric': 'lb'}, **{f'slot_{i}': ccb_int_result[i][0] for i in range(nslots)}),\n",
    "                dict({'name': 'ccb', 'metric': 'ub'}, **{f'slot_{i}': ccb_int_result[i][1] for i in range(nslots)}),\n",
    "        ])\n",
    "        result['all_slots'] = result['slot_0'] + result['slot_1']\n",
    "        return result.set_index(['name', 'metric'])\n",
    "\n",
    "    @property\n",
    "    def sessions(self):\n",
    "        agg = {'p_log': list, 'r': list, 'chosen': list, 'chosen_idx': list}\n",
    "        if 'p_pred' in self.columns:\n",
    "            agg['p_pred'] = list\n",
    "        return self.groupby('session').agg(agg)"
   ]
  },
  {
   "cell_type": "markdown",
   "id": "b81d377d",
   "metadata": {
    "collapsed": false,
    "pycharm": {
     "name": "#%% md\n"
    }
   },
   "source": [
    "## No slot dependencies"
   ]
  },
  {
   "cell_type": "code",
   "execution_count": 5,
   "id": "d5d0c85d",
   "metadata": {
    "collapsed": false,
    "pycharm": {
     "name": "#%%\n"
    }
   },
   "outputs": [],
   "source": [
    "epsilon = 0.2\n",
    "\n",
    "rewards = np.array([\n",
    "    [0.4, 0.8, 0.2],\n",
    "    [0.4, 0.8, 0.2]])\n",
    "\n",
    "eg = EpsilonGreedy(epsilon)\n",
    "epsilon_greedy = [\n",
    "    (eg.explore(3), [               #0\n",
    "        (eg.exploit(2), []),        #1\n",
    "        (eg.explore(2), []),        #2\n",
    "    ]),\n",
    "    (eg.exploit(3), [               #1\n",
    "        (eg.exploit(2), []),        #0\n",
    "        (eg.explore(2), []),        #2\n",
    "    ]),\n",
    "    (eg.explore(3), [               #2\n",
    "        (eg.explore(2), []),        #0\n",
    "        (eg.exploit(2), []),        #1\n",
    "    ])\n",
    "]"
   ]
  },
  {
   "cell_type": "code",
   "execution_count": 6,
   "id": "42ffaff2",
   "metadata": {
    "collapsed": false,
    "pycharm": {
     "name": "#%%\n"
    }
   },
   "outputs": [
    {
     "data": {
      "text/plain": "array([[0.4, 0.8, 0.2],\n       [0.4, 0.8, 0.2]])"
     },
     "execution_count": 6,
     "metadata": {},
     "output_type": "execute_result"
    }
   ],
   "source": [
    "n = 10000\n",
    "sim_eg = CcbSimulation(n, [Traffic(rewards, epsilon_greedy)])\n",
    "sim_b1 = CcbSimulation(n, [Traffic(rewards, baseline_1(3))])\n",
    "sim_br = CcbSimulation(n, [Traffic(rewards, baseline_random(3))])\n",
    "rewards"
   ]
  },
  {
   "cell_type": "code",
   "execution_count": 7,
   "id": "53d731df",
   "metadata": {
    "collapsed": false,
    "pycharm": {
     "name": "#%%\n"
    }
   },
   "outputs": [
    {
     "data": {
      "text/plain": "                policy  slot_0  slot_1  all_slots\n0  epsilon-greedy(0.2)  0.7298  0.4324     1.1622\n1           baseline_1  0.4017  0.7992     1.2009\n2      baseline_random  0.4745  0.4668     0.9413",
      "text/html": "<div>\n<style scoped>\n    .dataframe tbody tr th:only-of-type {\n        vertical-align: middle;\n    }\n\n    .dataframe tbody tr th {\n        vertical-align: top;\n    }\n\n    .dataframe thead th {\n        text-align: right;\n    }\n</style>\n<table border=\"1\" class=\"dataframe\">\n  <thead>\n    <tr style=\"text-align: right;\">\n      <th></th>\n      <th>policy</th>\n      <th>slot_0</th>\n      <th>slot_1</th>\n      <th>all_slots</th>\n    </tr>\n  </thead>\n  <tbody>\n    <tr>\n      <th>0</th>\n      <td>epsilon-greedy(0.2)</td>\n      <td>0.7298</td>\n      <td>0.4324</td>\n      <td>1.1622</td>\n    </tr>\n    <tr>\n      <th>1</th>\n      <td>baseline_1</td>\n      <td>0.4017</td>\n      <td>0.7992</td>\n      <td>1.2009</td>\n    </tr>\n    <tr>\n      <th>2</th>\n      <td>baseline_random</td>\n      <td>0.4745</td>\n      <td>0.4668</td>\n      <td>0.9413</td>\n    </tr>\n  </tbody>\n</table>\n</div>"
     },
     "execution_count": 7,
     "metadata": {},
     "output_type": "execute_result"
    }
   ],
   "source": [
    "simulation_stats = pd.DataFrame([\n",
    "    {'policy': f'epsilon-greedy({epsilon})', 'slot_0': sim_eg[sim_eg[\"slot\"]==0][\"r\"].mean(), 'slot_1': sim_eg[sim_eg[\"slot\"]==1][\"r\"].mean()},\n",
    "    {'policy': f'baseline_1', 'slot_0': sim_b1[sim_b1[\"slot\"]==0][\"r\"].mean(), 'slot_1': sim_b1[sim_b1[\"slot\"]==1][\"r\"].mean()},\n",
    "    {'policy': f'baseline_random', 'slot_0': sim_br[sim_br[\"slot\"]==0][\"r\"].mean(), 'slot_1': sim_br[sim_br[\"slot\"]==1][\"r\"].mean()},\n",
    "])\n",
    "simulation_stats['all_slots'] = simulation_stats['slot_0'] + simulation_stats['slot_1']\n",
    "simulation_stats"
   ]
  },
  {
   "cell_type": "code",
   "execution_count": 8,
   "id": "88f3a1d0",
   "metadata": {
    "collapsed": false,
    "pycharm": {
     "name": "#%%\n"
    }
   },
   "outputs": [
    {
     "data": {
      "text/plain": "               slot_0    slot_1  all_slots\nname metric                               \ncb   est     0.744853  0.631566   1.376419\n     lb      0.735612  0.612318   1.347930\n     ub      0.763248  0.637950   1.401198\nccb  est     0.744164  0.439572   1.183735\n     lb      0.729458  0.411759   1.141218\n     ub      0.755801  0.472050   1.227851",
      "text/html": "<div>\n<style scoped>\n    .dataframe tbody tr th:only-of-type {\n        vertical-align: middle;\n    }\n\n    .dataframe tbody tr th {\n        vertical-align: top;\n    }\n\n    .dataframe thead th {\n        text-align: right;\n    }\n</style>\n<table border=\"1\" class=\"dataframe\">\n  <thead>\n    <tr style=\"text-align: right;\">\n      <th></th>\n      <th></th>\n      <th>slot_0</th>\n      <th>slot_1</th>\n      <th>all_slots</th>\n    </tr>\n    <tr>\n      <th>name</th>\n      <th>metric</th>\n      <th></th>\n      <th></th>\n      <th></th>\n    </tr>\n  </thead>\n  <tbody>\n    <tr>\n      <th rowspan=\"3\" valign=\"top\">cb</th>\n      <th>est</th>\n      <td>0.744853</td>\n      <td>0.631566</td>\n      <td>1.376419</td>\n    </tr>\n    <tr>\n      <th>lb</th>\n      <td>0.735612</td>\n      <td>0.612318</td>\n      <td>1.347930</td>\n    </tr>\n    <tr>\n      <th>ub</th>\n      <td>0.763248</td>\n      <td>0.637950</td>\n      <td>1.401198</td>\n    </tr>\n    <tr>\n      <th rowspan=\"3\" valign=\"top\">ccb</th>\n      <th>est</th>\n      <td>0.744164</td>\n      <td>0.439572</td>\n      <td>1.183735</td>\n    </tr>\n    <tr>\n      <th>lb</th>\n      <td>0.729458</td>\n      <td>0.411759</td>\n      <td>1.141218</td>\n    </tr>\n    <tr>\n      <th>ub</th>\n      <td>0.755801</td>\n      <td>0.472050</td>\n      <td>1.227851</td>\n    </tr>\n  </tbody>\n</table>\n</div>"
     },
     "execution_count": 8,
     "metadata": {},
     "output_type": "execute_result"
    }
   ],
   "source": [
    "sim_br.predict(epsilon_greedy)\n",
    "sim_br.cfe(alpha=0.05)"
   ]
  },
  {
   "cell_type": "code",
   "execution_count": 9,
   "id": "d6b6bdf2",
   "metadata": {
    "collapsed": false,
    "pycharm": {
     "name": "#%%\n"
    }
   },
   "outputs": [
    {
     "data": {
      "text/plain": "               slot_0    slot_1  all_slots\nname metric                               \ncb   est     0.400955  0.802548   1.203502\n     lb      0.386488  0.515251   0.901739\n     ub      0.420082  0.543115   0.963197\nccb  est     0.400955  0.802326   1.203280\n     lb      0.384270  0.782539   1.166809\n     ub      0.418390  0.821749   1.240139",
      "text/html": "<div>\n<style scoped>\n    .dataframe tbody tr th:only-of-type {\n        vertical-align: middle;\n    }\n\n    .dataframe tbody tr th {\n        vertical-align: top;\n    }\n\n    .dataframe thead th {\n        text-align: right;\n    }\n</style>\n<table border=\"1\" class=\"dataframe\">\n  <thead>\n    <tr style=\"text-align: right;\">\n      <th></th>\n      <th></th>\n      <th>slot_0</th>\n      <th>slot_1</th>\n      <th>all_slots</th>\n    </tr>\n    <tr>\n      <th>name</th>\n      <th>metric</th>\n      <th></th>\n      <th></th>\n      <th></th>\n    </tr>\n  </thead>\n  <tbody>\n    <tr>\n      <th rowspan=\"3\" valign=\"top\">cb</th>\n      <th>est</th>\n      <td>0.400955</td>\n      <td>0.802548</td>\n      <td>1.203502</td>\n    </tr>\n    <tr>\n      <th>lb</th>\n      <td>0.386488</td>\n      <td>0.515251</td>\n      <td>0.901739</td>\n    </tr>\n    <tr>\n      <th>ub</th>\n      <td>0.420082</td>\n      <td>0.543115</td>\n      <td>0.963197</td>\n    </tr>\n    <tr>\n      <th rowspan=\"3\" valign=\"top\">ccb</th>\n      <th>est</th>\n      <td>0.400955</td>\n      <td>0.802326</td>\n      <td>1.203280</td>\n    </tr>\n    <tr>\n      <th>lb</th>\n      <td>0.384270</td>\n      <td>0.782539</td>\n      <td>1.166809</td>\n    </tr>\n    <tr>\n      <th>ub</th>\n      <td>0.418390</td>\n      <td>0.821749</td>\n      <td>1.240139</td>\n    </tr>\n  </tbody>\n</table>\n</div>"
     },
     "execution_count": 9,
     "metadata": {},
     "output_type": "execute_result"
    }
   ],
   "source": [
    "sim_br.predict(baseline_1(3))\n",
    "sim_br.cfe(alpha=0.05)"
   ]
  },
  {
   "cell_type": "code",
   "execution_count": 10,
   "id": "c020ad0d",
   "metadata": {
    "collapsed": false,
    "pycharm": {
     "name": "#%%\n"
    }
   },
   "outputs": [
    {
     "data": {
      "text/plain": "               slot_0    slot_1  all_slots\nname metric                               \ncb   est     0.474500  0.466800   0.941300\n     lb      0.464672  0.456983   0.921654\n     ub      0.484343  0.476637   0.960980\nccb  est     0.474500  0.466800   0.941300\n     lb      0.464713  0.457022   0.921734\n     ub      0.484287  0.476578   0.960866",
      "text/html": "<div>\n<style scoped>\n    .dataframe tbody tr th:only-of-type {\n        vertical-align: middle;\n    }\n\n    .dataframe tbody tr th {\n        vertical-align: top;\n    }\n\n    .dataframe thead th {\n        text-align: right;\n    }\n</style>\n<table border=\"1\" class=\"dataframe\">\n  <thead>\n    <tr style=\"text-align: right;\">\n      <th></th>\n      <th></th>\n      <th>slot_0</th>\n      <th>slot_1</th>\n      <th>all_slots</th>\n    </tr>\n    <tr>\n      <th>name</th>\n      <th>metric</th>\n      <th></th>\n      <th></th>\n      <th></th>\n    </tr>\n  </thead>\n  <tbody>\n    <tr>\n      <th rowspan=\"3\" valign=\"top\">cb</th>\n      <th>est</th>\n      <td>0.474500</td>\n      <td>0.466800</td>\n      <td>0.941300</td>\n    </tr>\n    <tr>\n      <th>lb</th>\n      <td>0.464672</td>\n      <td>0.456983</td>\n      <td>0.921654</td>\n    </tr>\n    <tr>\n      <th>ub</th>\n      <td>0.484343</td>\n      <td>0.476637</td>\n      <td>0.960980</td>\n    </tr>\n    <tr>\n      <th rowspan=\"3\" valign=\"top\">ccb</th>\n      <th>est</th>\n      <td>0.474500</td>\n      <td>0.466800</td>\n      <td>0.941300</td>\n    </tr>\n    <tr>\n      <th>lb</th>\n      <td>0.464713</td>\n      <td>0.457022</td>\n      <td>0.921734</td>\n    </tr>\n    <tr>\n      <th>ub</th>\n      <td>0.484287</td>\n      <td>0.476578</td>\n      <td>0.960866</td>\n    </tr>\n  </tbody>\n</table>\n</div>"
     },
     "execution_count": 10,
     "metadata": {},
     "output_type": "execute_result"
    }
   ],
   "source": [
    "sim_br.predict(baseline_random(3))\n",
    "sim_br.cfe(alpha=0.05)"
   ]
  },
  {
   "cell_type": "code",
   "execution_count": 11,
   "id": "81c0cd4f",
   "metadata": {
    "collapsed": false,
    "pycharm": {
     "name": "#%%\n"
    }
   },
   "outputs": [
    {
     "data": {
      "text/plain": "               slot_0    slot_1  all_slots\nname metric                               \ncb   est     0.729800  0.432400   1.162200\n     lb      0.720980  0.422661   1.143641\n     ub      0.738486  0.442178   1.180664\nccb  est     0.729800  0.432400   1.162200\n     lb      0.721096  0.422690   1.143786\n     ub      0.738504  0.442110   1.180614",
      "text/html": "<div>\n<style scoped>\n    .dataframe tbody tr th:only-of-type {\n        vertical-align: middle;\n    }\n\n    .dataframe tbody tr th {\n        vertical-align: top;\n    }\n\n    .dataframe thead th {\n        text-align: right;\n    }\n</style>\n<table border=\"1\" class=\"dataframe\">\n  <thead>\n    <tr style=\"text-align: right;\">\n      <th></th>\n      <th></th>\n      <th>slot_0</th>\n      <th>slot_1</th>\n      <th>all_slots</th>\n    </tr>\n    <tr>\n      <th>name</th>\n      <th>metric</th>\n      <th></th>\n      <th></th>\n      <th></th>\n    </tr>\n  </thead>\n  <tbody>\n    <tr>\n      <th rowspan=\"3\" valign=\"top\">cb</th>\n      <th>est</th>\n      <td>0.729800</td>\n      <td>0.432400</td>\n      <td>1.162200</td>\n    </tr>\n    <tr>\n      <th>lb</th>\n      <td>0.720980</td>\n      <td>0.422661</td>\n      <td>1.143641</td>\n    </tr>\n    <tr>\n      <th>ub</th>\n      <td>0.738486</td>\n      <td>0.442178</td>\n      <td>1.180664</td>\n    </tr>\n    <tr>\n      <th rowspan=\"3\" valign=\"top\">ccb</th>\n      <th>est</th>\n      <td>0.729800</td>\n      <td>0.432400</td>\n      <td>1.162200</td>\n    </tr>\n    <tr>\n      <th>lb</th>\n      <td>0.721096</td>\n      <td>0.422690</td>\n      <td>1.143786</td>\n    </tr>\n    <tr>\n      <th>ub</th>\n      <td>0.738504</td>\n      <td>0.442110</td>\n      <td>1.180614</td>\n    </tr>\n  </tbody>\n</table>\n</div>"
     },
     "execution_count": 11,
     "metadata": {},
     "output_type": "execute_result"
    }
   ],
   "source": [
    "sim_eg.predict(epsilon_greedy)\n",
    "sim_eg.cfe(alpha=0.05)"
   ]
  },
  {
   "cell_type": "code",
   "execution_count": 12,
   "id": "74a0b91d",
   "metadata": {
    "collapsed": false,
    "pycharm": {
     "name": "#%%\n"
    }
   },
   "outputs": [
    {
     "data": {
      "text/plain": "               slot_0    slot_1  all_slots\nname metric                               \ncb   est     0.426230  0.794431   1.220660\n     lb      0.391066  0.101443   0.492510\n     ub      0.467565  0.114367   0.581932\nccb  est     0.426230  0.788829   1.215058\n     lb      0.386638  0.717391   1.104030\n     ub      0.471399  0.827960   1.299359",
      "text/html": "<div>\n<style scoped>\n    .dataframe tbody tr th:only-of-type {\n        vertical-align: middle;\n    }\n\n    .dataframe tbody tr th {\n        vertical-align: top;\n    }\n\n    .dataframe thead th {\n        text-align: right;\n    }\n</style>\n<table border=\"1\" class=\"dataframe\">\n  <thead>\n    <tr style=\"text-align: right;\">\n      <th></th>\n      <th></th>\n      <th>slot_0</th>\n      <th>slot_1</th>\n      <th>all_slots</th>\n    </tr>\n    <tr>\n      <th>name</th>\n      <th>metric</th>\n      <th></th>\n      <th></th>\n      <th></th>\n    </tr>\n  </thead>\n  <tbody>\n    <tr>\n      <th rowspan=\"3\" valign=\"top\">cb</th>\n      <th>est</th>\n      <td>0.426230</td>\n      <td>0.794431</td>\n      <td>1.220660</td>\n    </tr>\n    <tr>\n      <th>lb</th>\n      <td>0.391066</td>\n      <td>0.101443</td>\n      <td>0.492510</td>\n    </tr>\n    <tr>\n      <th>ub</th>\n      <td>0.467565</td>\n      <td>0.114367</td>\n      <td>0.581932</td>\n    </tr>\n    <tr>\n      <th rowspan=\"3\" valign=\"top\">ccb</th>\n      <th>est</th>\n      <td>0.426230</td>\n      <td>0.788829</td>\n      <td>1.215058</td>\n    </tr>\n    <tr>\n      <th>lb</th>\n      <td>0.386638</td>\n      <td>0.717391</td>\n      <td>1.104030</td>\n    </tr>\n    <tr>\n      <th>ub</th>\n      <td>0.471399</td>\n      <td>0.827960</td>\n      <td>1.299359</td>\n    </tr>\n  </tbody>\n</table>\n</div>"
     },
     "execution_count": 12,
     "metadata": {},
     "output_type": "execute_result"
    }
   ],
   "source": [
    "sim_eg.predict(baseline_1(3))\n",
    "sim_eg.cfe(alpha=0.05)"
   ]
  },
  {
   "cell_type": "code",
   "execution_count": 13,
   "id": "6ac3766c",
   "metadata": {
    "collapsed": false,
    "pycharm": {
     "name": "#%%\n"
    }
   },
   "outputs": [
    {
     "data": {
      "text/plain": "               slot_0    slot_1  all_slots\nname metric                               \ncb   est     0.466126  0.336308   0.802434\n     lb      0.451075  0.322516   0.773591\n     ub      0.495311  0.364611   0.859922\nccb  est     0.469148  0.462772   0.931921\n     lb      0.452232  0.433282   0.885513\n     ub      0.486112  0.492263   0.978375",
      "text/html": "<div>\n<style scoped>\n    .dataframe tbody tr th:only-of-type {\n        vertical-align: middle;\n    }\n\n    .dataframe tbody tr th {\n        vertical-align: top;\n    }\n\n    .dataframe thead th {\n        text-align: right;\n    }\n</style>\n<table border=\"1\" class=\"dataframe\">\n  <thead>\n    <tr style=\"text-align: right;\">\n      <th></th>\n      <th></th>\n      <th>slot_0</th>\n      <th>slot_1</th>\n      <th>all_slots</th>\n    </tr>\n    <tr>\n      <th>name</th>\n      <th>metric</th>\n      <th></th>\n      <th></th>\n      <th></th>\n    </tr>\n  </thead>\n  <tbody>\n    <tr>\n      <th rowspan=\"3\" valign=\"top\">cb</th>\n      <th>est</th>\n      <td>0.466126</td>\n      <td>0.336308</td>\n      <td>0.802434</td>\n    </tr>\n    <tr>\n      <th>lb</th>\n      <td>0.451075</td>\n      <td>0.322516</td>\n      <td>0.773591</td>\n    </tr>\n    <tr>\n      <th>ub</th>\n      <td>0.495311</td>\n      <td>0.364611</td>\n      <td>0.859922</td>\n    </tr>\n    <tr>\n      <th rowspan=\"3\" valign=\"top\">ccb</th>\n      <th>est</th>\n      <td>0.469148</td>\n      <td>0.462772</td>\n      <td>0.931921</td>\n    </tr>\n    <tr>\n      <th>lb</th>\n      <td>0.452232</td>\n      <td>0.433282</td>\n      <td>0.885513</td>\n    </tr>\n    <tr>\n      <th>ub</th>\n      <td>0.486112</td>\n      <td>0.492263</td>\n      <td>0.978375</td>\n    </tr>\n  </tbody>\n</table>\n</div>"
     },
     "execution_count": 13,
     "metadata": {},
     "output_type": "execute_result"
    }
   ],
   "source": [
    "sim_eg.predict(baseline_random(3))\n",
    "sim_eg.cfe(alpha=0.05)"
   ]
  },
  {
   "cell_type": "markdown",
   "id": "7ce0edb3",
   "metadata": {
    "collapsed": false,
    "pycharm": {
     "name": "#%% md\n"
    }
   },
   "source": [
    "## With slot dependencies"
   ]
  },
  {
   "cell_type": "code",
   "execution_count": 35,
   "id": "753ca171",
   "metadata": {
    "collapsed": false,
    "pycharm": {
     "name": "#%%\n"
    }
   },
   "outputs": [],
   "source": [
    "epsilon = 0.2\n",
    "\n",
    "rewards = np.array([\n",
    "    [0.4, 0.8, 0.2],\n",
    "    [0.2, 0.4, 0.8]])\n",
    "\n",
    "eg = EpsilonGreedy(epsilon)\n",
    "epsilon_greedy = [\n",
    "    (eg.explore(3), [               #0\n",
    "        (eg.explore(2), []),        #1\n",
    "        (eg.exploit(2), []),        #2\n",
    "    ]),\n",
    "    (eg.exploit(3), [               #1\n",
    "        (eg.explore(2), []),        #0\n",
    "        (eg.exploit(2), []),        #2\n",
    "    ]),\n",
    "    (eg.explore(3), [               #2\n",
    "        (eg.explore(2), []),        #0\n",
    "        (eg.exploit(2), []),        #1\n",
    "    ])\n",
    "]"
   ]
  },
  {
   "cell_type": "code",
   "execution_count": 36,
   "id": "bbc47e53",
   "metadata": {
    "collapsed": false,
    "pycharm": {
     "name": "#%%\n"
    }
   },
   "outputs": [
    {
     "data": {
      "text/plain": "array([[0.4, 0.8, 0.2],\n       [0.2, 0.4, 0.8]])"
     },
     "execution_count": 36,
     "metadata": {},
     "output_type": "execute_result"
    }
   ],
   "source": [
    "n = 10000\n",
    "sim_eg = CcbSimulation(n, [Traffic(rewards, epsilon_greedy)])\n",
    "sim_b1 = CcbSimulation(n, [Traffic(rewards, baseline_1(3))])\n",
    "sim_br = CcbSimulation(n, [Traffic(rewards, baseline_random(3))])\n",
    "rewards"
   ]
  },
  {
   "cell_type": "code",
   "execution_count": 37,
   "id": "449c5e76",
   "metadata": {
    "collapsed": false,
    "pycharm": {
     "name": "#%%\n"
    }
   },
   "outputs": [
    {
     "data": {
      "text/plain": "                policy  slot_0  slot_1  all_slots\n0  epsilon-greedy(0.2)  0.7379  0.7177     1.4556\n1           baseline_1  0.3955  0.4072     0.8027\n2      baseline_random  0.4659  0.4680     0.9339",
      "text/html": "<div>\n<style scoped>\n    .dataframe tbody tr th:only-of-type {\n        vertical-align: middle;\n    }\n\n    .dataframe tbody tr th {\n        vertical-align: top;\n    }\n\n    .dataframe thead th {\n        text-align: right;\n    }\n</style>\n<table border=\"1\" class=\"dataframe\">\n  <thead>\n    <tr style=\"text-align: right;\">\n      <th></th>\n      <th>policy</th>\n      <th>slot_0</th>\n      <th>slot_1</th>\n      <th>all_slots</th>\n    </tr>\n  </thead>\n  <tbody>\n    <tr>\n      <th>0</th>\n      <td>epsilon-greedy(0.2)</td>\n      <td>0.7379</td>\n      <td>0.7177</td>\n      <td>1.4556</td>\n    </tr>\n    <tr>\n      <th>1</th>\n      <td>baseline_1</td>\n      <td>0.3955</td>\n      <td>0.4072</td>\n      <td>0.8027</td>\n    </tr>\n    <tr>\n      <th>2</th>\n      <td>baseline_random</td>\n      <td>0.4659</td>\n      <td>0.4680</td>\n      <td>0.9339</td>\n    </tr>\n  </tbody>\n</table>\n</div>"
     },
     "execution_count": 37,
     "metadata": {},
     "output_type": "execute_result"
    }
   ],
   "source": [
    "simulation_stats = pd.DataFrame([\n",
    "    {'policy': f'epsilon-greedy({epsilon})', 'slot_0': sim_eg[sim_eg[\"slot\"]==0][\"r\"].mean(), 'slot_1': sim_eg[sim_eg[\"slot\"]==1][\"r\"].mean()},\n",
    "    {'policy': f'baseline_1', 'slot_0': sim_b1[sim_b1[\"slot\"]==0][\"r\"].mean(), 'slot_1': sim_b1[sim_b1[\"slot\"]==1][\"r\"].mean()},\n",
    "    {'policy': f'baseline_random', 'slot_0': sim_br[sim_br[\"slot\"]==0][\"r\"].mean(), 'slot_1': sim_br[sim_br[\"slot\"]==1][\"r\"].mean()},\n",
    "])\n",
    "simulation_stats['all_slots'] = simulation_stats['slot_0'] + simulation_stats['slot_1']\n",
    "simulation_stats"
   ]
  },
  {
   "cell_type": "code",
   "execution_count": 38,
   "id": "676db9c1",
   "metadata": {
    "collapsed": false,
    "pycharm": {
     "name": "#%%\n"
    }
   },
   "outputs": [
    {
     "data": {
      "text/plain": "               slot_0    slot_1  all_slots\nname metric                               \ncb   est     0.731768  0.624701   1.356469\n     lb      0.710449  0.613525   1.323975\n     ub      0.738928  0.639142   1.378070\nccb  est     0.729258  0.697683   1.426941\n     lb      0.702842  0.665710   1.368552\n     ub      0.746628  0.717115   1.463743",
      "text/html": "<div>\n<style scoped>\n    .dataframe tbody tr th:only-of-type {\n        vertical-align: middle;\n    }\n\n    .dataframe tbody tr th {\n        vertical-align: top;\n    }\n\n    .dataframe thead th {\n        text-align: right;\n    }\n</style>\n<table border=\"1\" class=\"dataframe\">\n  <thead>\n    <tr style=\"text-align: right;\">\n      <th></th>\n      <th></th>\n      <th>slot_0</th>\n      <th>slot_1</th>\n      <th>all_slots</th>\n    </tr>\n    <tr>\n      <th>name</th>\n      <th>metric</th>\n      <th></th>\n      <th></th>\n      <th></th>\n    </tr>\n  </thead>\n  <tbody>\n    <tr>\n      <th rowspan=\"3\" valign=\"top\">cb</th>\n      <th>est</th>\n      <td>0.731768</td>\n      <td>0.624701</td>\n      <td>1.356469</td>\n    </tr>\n    <tr>\n      <th>lb</th>\n      <td>0.710449</td>\n      <td>0.613525</td>\n      <td>1.323975</td>\n    </tr>\n    <tr>\n      <th>ub</th>\n      <td>0.738928</td>\n      <td>0.639142</td>\n      <td>1.378070</td>\n    </tr>\n    <tr>\n      <th rowspan=\"3\" valign=\"top\">ccb</th>\n      <th>est</th>\n      <td>0.729258</td>\n      <td>0.697683</td>\n      <td>1.426941</td>\n    </tr>\n    <tr>\n      <th>lb</th>\n      <td>0.702842</td>\n      <td>0.665710</td>\n      <td>1.368552</td>\n    </tr>\n    <tr>\n      <th>ub</th>\n      <td>0.746628</td>\n      <td>0.717115</td>\n      <td>1.463743</td>\n    </tr>\n  </tbody>\n</table>\n</div>"
     },
     "execution_count": 38,
     "metadata": {},
     "output_type": "execute_result"
    }
   ],
   "source": [
    "sim_br.predict(epsilon_greedy)\n",
    "sim_br.cfe(alpha=0.05)"
   ]
  },
  {
   "cell_type": "code",
   "execution_count": 39,
   "id": "d4019e14",
   "metadata": {
    "collapsed": false,
    "pycharm": {
     "name": "#%%\n"
    }
   },
   "outputs": [
    {
     "data": {
      "text/plain": "               slot_0    slot_1  all_slots\nname metric                               \ncb   est     0.394706  0.403087   0.797793\n     lb      0.390359  0.259308   0.649667\n     ub      0.424004  0.284160   0.708163\nccb  est     0.394706  0.408116   0.802822\n     lb      0.377854  0.384110   0.761965\n     ub      0.411558  0.432122   0.843680",
      "text/html": "<div>\n<style scoped>\n    .dataframe tbody tr th:only-of-type {\n        vertical-align: middle;\n    }\n\n    .dataframe tbody tr th {\n        vertical-align: top;\n    }\n\n    .dataframe thead th {\n        text-align: right;\n    }\n</style>\n<table border=\"1\" class=\"dataframe\">\n  <thead>\n    <tr style=\"text-align: right;\">\n      <th></th>\n      <th></th>\n      <th>slot_0</th>\n      <th>slot_1</th>\n      <th>all_slots</th>\n    </tr>\n    <tr>\n      <th>name</th>\n      <th>metric</th>\n      <th></th>\n      <th></th>\n      <th></th>\n    </tr>\n  </thead>\n  <tbody>\n    <tr>\n      <th rowspan=\"3\" valign=\"top\">cb</th>\n      <th>est</th>\n      <td>0.394706</td>\n      <td>0.403087</td>\n      <td>0.797793</td>\n    </tr>\n    <tr>\n      <th>lb</th>\n      <td>0.390359</td>\n      <td>0.259308</td>\n      <td>0.649667</td>\n    </tr>\n    <tr>\n      <th>ub</th>\n      <td>0.424004</td>\n      <td>0.284160</td>\n      <td>0.708163</td>\n    </tr>\n    <tr>\n      <th rowspan=\"3\" valign=\"top\">ccb</th>\n      <th>est</th>\n      <td>0.394706</td>\n      <td>0.408116</td>\n      <td>0.802822</td>\n    </tr>\n    <tr>\n      <th>lb</th>\n      <td>0.377854</td>\n      <td>0.384110</td>\n      <td>0.761965</td>\n    </tr>\n    <tr>\n      <th>ub</th>\n      <td>0.411558</td>\n      <td>0.432122</td>\n      <td>0.843680</td>\n    </tr>\n  </tbody>\n</table>\n</div>"
     },
     "execution_count": 39,
     "metadata": {},
     "output_type": "execute_result"
    }
   ],
   "source": [
    "sim_br.predict(baseline_1(3))\n",
    "sim_br.cfe(alpha=0.05)"
   ]
  },
  {
   "cell_type": "code",
   "execution_count": 40,
   "id": "373a79bb",
   "metadata": {
    "collapsed": false,
    "pycharm": {
     "name": "#%%\n"
    }
   },
   "outputs": [
    {
     "data": {
      "text/plain": "               slot_0    slot_1  all_slots\nname metric                               \ncb   est     0.465900  0.468000   0.933900\n     lb      0.456084  0.458181   0.914265\n     ub      0.475736  0.477838   0.953574\nccb  est     0.465900  0.468000   0.933900\n     lb      0.456123  0.458220   0.914343\n     ub      0.475677  0.477780   0.953457",
      "text/html": "<div>\n<style scoped>\n    .dataframe tbody tr th:only-of-type {\n        vertical-align: middle;\n    }\n\n    .dataframe tbody tr th {\n        vertical-align: top;\n    }\n\n    .dataframe thead th {\n        text-align: right;\n    }\n</style>\n<table border=\"1\" class=\"dataframe\">\n  <thead>\n    <tr style=\"text-align: right;\">\n      <th></th>\n      <th></th>\n      <th>slot_0</th>\n      <th>slot_1</th>\n      <th>all_slots</th>\n    </tr>\n    <tr>\n      <th>name</th>\n      <th>metric</th>\n      <th></th>\n      <th></th>\n      <th></th>\n    </tr>\n  </thead>\n  <tbody>\n    <tr>\n      <th rowspan=\"3\" valign=\"top\">cb</th>\n      <th>est</th>\n      <td>0.465900</td>\n      <td>0.468000</td>\n      <td>0.933900</td>\n    </tr>\n    <tr>\n      <th>lb</th>\n      <td>0.456084</td>\n      <td>0.458181</td>\n      <td>0.914265</td>\n    </tr>\n    <tr>\n      <th>ub</th>\n      <td>0.475736</td>\n      <td>0.477838</td>\n      <td>0.953574</td>\n    </tr>\n    <tr>\n      <th rowspan=\"3\" valign=\"top\">ccb</th>\n      <th>est</th>\n      <td>0.465900</td>\n      <td>0.468000</td>\n      <td>0.933900</td>\n    </tr>\n    <tr>\n      <th>lb</th>\n      <td>0.456123</td>\n      <td>0.458220</td>\n      <td>0.914343</td>\n    </tr>\n    <tr>\n      <th>ub</th>\n      <td>0.475677</td>\n      <td>0.477780</td>\n      <td>0.953457</td>\n    </tr>\n  </tbody>\n</table>\n</div>"
     },
     "execution_count": 40,
     "metadata": {},
     "output_type": "execute_result"
    }
   ],
   "source": [
    "sim_br.predict(baseline_random(3))\n",
    "sim_br.cfe(alpha=0.05)"
   ]
  },
  {
   "cell_type": "code",
   "execution_count": 41,
   "id": "555cb204",
   "metadata": {
    "collapsed": false,
    "pycharm": {
     "name": "#%%\n"
    }
   },
   "outputs": [
    {
     "data": {
      "text/plain": "               slot_0    slot_1  all_slots\nname metric                               \ncb   est     0.737900  0.717700   1.455600\n     lb      0.729162  0.708765   1.437927\n     ub      0.746499  0.726508   1.473007\nccb  est     0.737900  0.717700   1.455600\n     lb      0.729280  0.708878   1.438158\n     ub      0.746520  0.726522   1.473042",
      "text/html": "<div>\n<style scoped>\n    .dataframe tbody tr th:only-of-type {\n        vertical-align: middle;\n    }\n\n    .dataframe tbody tr th {\n        vertical-align: top;\n    }\n\n    .dataframe thead th {\n        text-align: right;\n    }\n</style>\n<table border=\"1\" class=\"dataframe\">\n  <thead>\n    <tr style=\"text-align: right;\">\n      <th></th>\n      <th></th>\n      <th>slot_0</th>\n      <th>slot_1</th>\n      <th>all_slots</th>\n    </tr>\n    <tr>\n      <th>name</th>\n      <th>metric</th>\n      <th></th>\n      <th></th>\n      <th></th>\n    </tr>\n  </thead>\n  <tbody>\n    <tr>\n      <th rowspan=\"3\" valign=\"top\">cb</th>\n      <th>est</th>\n      <td>0.737900</td>\n      <td>0.717700</td>\n      <td>1.455600</td>\n    </tr>\n    <tr>\n      <th>lb</th>\n      <td>0.729162</td>\n      <td>0.708765</td>\n      <td>1.437927</td>\n    </tr>\n    <tr>\n      <th>ub</th>\n      <td>0.746499</td>\n      <td>0.726508</td>\n      <td>1.473007</td>\n    </tr>\n    <tr>\n      <th rowspan=\"3\" valign=\"top\">ccb</th>\n      <th>est</th>\n      <td>0.737900</td>\n      <td>0.717700</td>\n      <td>1.455600</td>\n    </tr>\n    <tr>\n      <th>lb</th>\n      <td>0.729280</td>\n      <td>0.708878</td>\n      <td>1.438158</td>\n    </tr>\n    <tr>\n      <th>ub</th>\n      <td>0.746520</td>\n      <td>0.726522</td>\n      <td>1.473042</td>\n    </tr>\n  </tbody>\n</table>\n</div>"
     },
     "execution_count": 41,
     "metadata": {},
     "output_type": "execute_result"
    }
   ],
   "source": [
    "sim_eg.predict(epsilon_greedy)\n",
    "sim_eg.cfe(alpha=0.05)"
   ]
  },
  {
   "cell_type": "code",
   "execution_count": 42,
   "id": "00fed98e",
   "metadata": {
    "collapsed": false,
    "pycharm": {
     "name": "#%%\n"
    }
   },
   "outputs": [
    {
     "data": {
      "text/plain": "               slot_0    slot_1  all_slots\nname metric                               \ncb   est     0.412698  0.362137   0.774835\n     lb      0.391066  0.038399   0.429465\n     ub      0.467565  0.066763   0.534328\nccb  est     0.412698  0.305556   0.718254\n     lb      0.374595  0.190640   0.565235\n     ub      0.450802  0.440399   0.891201",
      "text/html": "<div>\n<style scoped>\n    .dataframe tbody tr th:only-of-type {\n        vertical-align: middle;\n    }\n\n    .dataframe tbody tr th {\n        vertical-align: top;\n    }\n\n    .dataframe thead th {\n        text-align: right;\n    }\n</style>\n<table border=\"1\" class=\"dataframe\">\n  <thead>\n    <tr style=\"text-align: right;\">\n      <th></th>\n      <th></th>\n      <th>slot_0</th>\n      <th>slot_1</th>\n      <th>all_slots</th>\n    </tr>\n    <tr>\n      <th>name</th>\n      <th>metric</th>\n      <th></th>\n      <th></th>\n      <th></th>\n    </tr>\n  </thead>\n  <tbody>\n    <tr>\n      <th rowspan=\"3\" valign=\"top\">cb</th>\n      <th>est</th>\n      <td>0.412698</td>\n      <td>0.362137</td>\n      <td>0.774835</td>\n    </tr>\n    <tr>\n      <th>lb</th>\n      <td>0.391066</td>\n      <td>0.038399</td>\n      <td>0.429465</td>\n    </tr>\n    <tr>\n      <th>ub</th>\n      <td>0.467565</td>\n      <td>0.066763</td>\n      <td>0.534328</td>\n    </tr>\n    <tr>\n      <th rowspan=\"3\" valign=\"top\">ccb</th>\n      <th>est</th>\n      <td>0.412698</td>\n      <td>0.305556</td>\n      <td>0.718254</td>\n    </tr>\n    <tr>\n      <th>lb</th>\n      <td>0.374595</td>\n      <td>0.190640</td>\n      <td>0.565235</td>\n    </tr>\n    <tr>\n      <th>ub</th>\n      <td>0.450802</td>\n      <td>0.440399</td>\n      <td>0.891201</td>\n    </tr>\n  </tbody>\n</table>\n</div>"
     },
     "execution_count": 42,
     "metadata": {},
     "output_type": "execute_result"
    }
   ],
   "source": [
    "sim_eg.predict(baseline_1(3))\n",
    "sim_eg.cfe(alpha=0.05)"
   ]
  },
  {
   "cell_type": "code",
   "execution_count": 43,
   "id": "43c9ddca",
   "metadata": {
    "collapsed": false,
    "pycharm": {
     "name": "#%%\n"
    }
   },
   "outputs": [
    {
     "data": {
      "text/plain": "               slot_0    slot_1  all_slots\nname metric                               \ncb   est     0.472389  0.496729   0.969119\n     lb      0.461540  0.475687   0.937227\n     ub      0.505816  0.519986   1.025801\nccb  est     0.477159  0.458946   0.936105\n     lb      0.460027  0.431139   0.891166\n     ub      0.494291  0.489497   0.983787",
      "text/html": "<div>\n<style scoped>\n    .dataframe tbody tr th:only-of-type {\n        vertical-align: middle;\n    }\n\n    .dataframe tbody tr th {\n        vertical-align: top;\n    }\n\n    .dataframe thead th {\n        text-align: right;\n    }\n</style>\n<table border=\"1\" class=\"dataframe\">\n  <thead>\n    <tr style=\"text-align: right;\">\n      <th></th>\n      <th></th>\n      <th>slot_0</th>\n      <th>slot_1</th>\n      <th>all_slots</th>\n    </tr>\n    <tr>\n      <th>name</th>\n      <th>metric</th>\n      <th></th>\n      <th></th>\n      <th></th>\n    </tr>\n  </thead>\n  <tbody>\n    <tr>\n      <th rowspan=\"3\" valign=\"top\">cb</th>\n      <th>est</th>\n      <td>0.472389</td>\n      <td>0.496729</td>\n      <td>0.969119</td>\n    </tr>\n    <tr>\n      <th>lb</th>\n      <td>0.461540</td>\n      <td>0.475687</td>\n      <td>0.937227</td>\n    </tr>\n    <tr>\n      <th>ub</th>\n      <td>0.505816</td>\n      <td>0.519986</td>\n      <td>1.025801</td>\n    </tr>\n    <tr>\n      <th rowspan=\"3\" valign=\"top\">ccb</th>\n      <th>est</th>\n      <td>0.477159</td>\n      <td>0.458946</td>\n      <td>0.936105</td>\n    </tr>\n    <tr>\n      <th>lb</th>\n      <td>0.460027</td>\n      <td>0.431139</td>\n      <td>0.891166</td>\n    </tr>\n    <tr>\n      <th>ub</th>\n      <td>0.494291</td>\n      <td>0.489497</td>\n      <td>0.983787</td>\n    </tr>\n  </tbody>\n</table>\n</div>"
     },
     "execution_count": 43,
     "metadata": {},
     "output_type": "execute_result"
    }
   ],
   "source": [
    "sim_eg.predict(baseline_random(3))\n",
    "sim_eg.cfe(alpha=0.05)"
   ]
  },
  {
   "cell_type": "markdown",
   "id": "40997667",
   "metadata": {
    "collapsed": false,
    "pycharm": {
     "name": "#%% md\n"
    }
   },
   "source": [
    "## Locked content"
   ]
  },
  {
   "cell_type": "code",
   "execution_count": 44,
   "id": "14c1e7d2",
   "metadata": {
    "collapsed": false,
    "pycharm": {
     "name": "#%%\n"
    }
   },
   "outputs": [],
   "source": [
    "epsilon = 0.2\n",
    "\n",
    "rewards = np.array([\n",
    "    [0.4, 0.8, 0.2],\n",
    "    [0.4, 0.8, 0.2]])\n",
    "\n",
    "eg = EpsilonGreedy(epsilon)\n",
    "epsilon_greedy_lock0 = [\n",
    "    (0, [               #0\n",
    "        (eg.exploit(2), []),        #1\n",
    "        (eg.explore(2), []),        #2\n",
    "    ]),\n",
    "    (1, [               #1\n",
    "        (eg.exploit(2), []),        #0\n",
    "        (eg.explore(2), []),        #2\n",
    "    ]),\n",
    "    (0, [               #2\n",
    "        (eg.explore(2), []),        #0\n",
    "        (eg.exploit(2), []),        #1\n",
    "    ])\n",
    "]\n",
    "\n",
    "baseline_random_lock0 = [\n",
    "    (0, [\n",
    "        (1/2, []),\n",
    "        (1/2, []),\n",
    "    ]),\n",
    "    (1, [\n",
    "        (1/2, []),\n",
    "        (1/2, []),\n",
    "    ]),\n",
    "    (0, [\n",
    "        (1/2, []),\n",
    "        (1/2, []),\n",
    "    ])\n",
    "]\n",
    "\n",
    "baseline_1_lock0 = [\n",
    "    (0, [\n",
    "        (0, []),\n",
    "        (0, []),\n",
    "    ]),\n",
    "    (1, [\n",
    "        (1, []),\n",
    "        (0, []),\n",
    "    ]),\n",
    "    (0, [\n",
    "        (1, []),\n",
    "        (0, []),\n",
    "    ])\n",
    "]"
   ]
  },
  {
   "cell_type": "code",
   "execution_count": 45,
   "id": "38de217d",
   "metadata": {
    "collapsed": false,
    "pycharm": {
     "name": "#%%\n"
    }
   },
   "outputs": [
    {
     "data": {
      "text/plain": "array([[0.4, 0.8, 0.2],\n       [0.4, 0.8, 0.2]])"
     },
     "execution_count": 45,
     "metadata": {},
     "output_type": "execute_result"
    }
   ],
   "source": [
    "n = 10000\n",
    "sim_eg_lock0 = CcbSimulation(n, [Traffic(rewards, epsilon_greedy_lock0)])\n",
    "sim_b1 = CcbSimulation(n, [Traffic(rewards, baseline_1_lock0)])\n",
    "sim_br = CcbSimulation(n, [Traffic(rewards, baseline_random_lock0)])\n",
    "rewards"
   ]
  },
  {
   "cell_type": "code",
   "execution_count": 46,
   "id": "415ae8e7",
   "metadata": {
    "collapsed": false,
    "pycharm": {
     "name": "#%%\n"
    }
   },
   "outputs": [
    {
     "data": {
      "text/plain": "                      policy  slot_0  slot_1  all_slots\n0  epsilon-greedy_lock0(0.2)  0.7946  0.3818     1.1764\n1                 baseline_1  0.8006  0.4000     1.2006\n2            baseline_random  0.8036  0.2998     1.1034",
      "text/html": "<div>\n<style scoped>\n    .dataframe tbody tr th:only-of-type {\n        vertical-align: middle;\n    }\n\n    .dataframe tbody tr th {\n        vertical-align: top;\n    }\n\n    .dataframe thead th {\n        text-align: right;\n    }\n</style>\n<table border=\"1\" class=\"dataframe\">\n  <thead>\n    <tr style=\"text-align: right;\">\n      <th></th>\n      <th>policy</th>\n      <th>slot_0</th>\n      <th>slot_1</th>\n      <th>all_slots</th>\n    </tr>\n  </thead>\n  <tbody>\n    <tr>\n      <th>0</th>\n      <td>epsilon-greedy_lock0(0.2)</td>\n      <td>0.7946</td>\n      <td>0.3818</td>\n      <td>1.1764</td>\n    </tr>\n    <tr>\n      <th>1</th>\n      <td>baseline_1</td>\n      <td>0.8006</td>\n      <td>0.4000</td>\n      <td>1.2006</td>\n    </tr>\n    <tr>\n      <th>2</th>\n      <td>baseline_random</td>\n      <td>0.8036</td>\n      <td>0.2998</td>\n      <td>1.1034</td>\n    </tr>\n  </tbody>\n</table>\n</div>"
     },
     "execution_count": 46,
     "metadata": {},
     "output_type": "execute_result"
    }
   ],
   "source": [
    "simulation_stats = pd.DataFrame([\n",
    "    {'policy': f'epsilon-greedy_lock0({epsilon})', 'slot_0': sim_eg_lock0[sim_eg_lock0[\"slot\"]==0][\"r\"].mean(), 'slot_1': sim_eg_lock0[sim_eg_lock0[\"slot\"]==1][\"r\"].mean()},\n",
    "    {'policy': f'baseline_1', 'slot_0': sim_b1[sim_b1[\"slot\"]==0][\"r\"].mean(), 'slot_1': sim_b1[sim_b1[\"slot\"]==1][\"r\"].mean()},\n",
    "    {'policy': f'baseline_random', 'slot_0': sim_br[sim_br[\"slot\"]==0][\"r\"].mean(), 'slot_1': sim_br[sim_br[\"slot\"]==1][\"r\"].mean()},\n",
    "])\n",
    "simulation_stats['all_slots'] = simulation_stats['slot_0'] + simulation_stats['slot_1']\n",
    "simulation_stats"
   ]
  },
  {
   "cell_type": "code",
   "execution_count": 47,
   "id": "cac02453",
   "metadata": {
    "collapsed": false,
    "pycharm": {
     "name": "#%%\n"
    }
   },
   "outputs": [
    {
     "data": {
      "text/plain": "               slot_0    slot_1  all_slots\nname metric                               \ncb   est     0.794600  0.381800   1.176400\n     lb      0.786547  0.372264   1.158810\n     ub      0.802481  0.391405   1.193887\nccb  est     0.794600  0.381800   1.176400\n     lb      0.786682  0.372278   1.158959\n     ub      0.802518  0.391322   1.193841",
      "text/html": "<div>\n<style scoped>\n    .dataframe tbody tr th:only-of-type {\n        vertical-align: middle;\n    }\n\n    .dataframe tbody tr th {\n        vertical-align: top;\n    }\n\n    .dataframe thead th {\n        text-align: right;\n    }\n</style>\n<table border=\"1\" class=\"dataframe\">\n  <thead>\n    <tr style=\"text-align: right;\">\n      <th></th>\n      <th></th>\n      <th>slot_0</th>\n      <th>slot_1</th>\n      <th>all_slots</th>\n    </tr>\n    <tr>\n      <th>name</th>\n      <th>metric</th>\n      <th></th>\n      <th></th>\n      <th></th>\n    </tr>\n  </thead>\n  <tbody>\n    <tr>\n      <th rowspan=\"3\" valign=\"top\">cb</th>\n      <th>est</th>\n      <td>0.794600</td>\n      <td>0.381800</td>\n      <td>1.176400</td>\n    </tr>\n    <tr>\n      <th>lb</th>\n      <td>0.786547</td>\n      <td>0.372264</td>\n      <td>1.158810</td>\n    </tr>\n    <tr>\n      <th>ub</th>\n      <td>0.802481</td>\n      <td>0.391405</td>\n      <td>1.193887</td>\n    </tr>\n    <tr>\n      <th rowspan=\"3\" valign=\"top\">ccb</th>\n      <th>est</th>\n      <td>0.794600</td>\n      <td>0.381800</td>\n      <td>1.176400</td>\n    </tr>\n    <tr>\n      <th>lb</th>\n      <td>0.786682</td>\n      <td>0.372278</td>\n      <td>1.158959</td>\n    </tr>\n    <tr>\n      <th>ub</th>\n      <td>0.802518</td>\n      <td>0.391322</td>\n      <td>1.193841</td>\n    </tr>\n  </tbody>\n</table>\n</div>"
     },
     "execution_count": 47,
     "metadata": {},
     "output_type": "execute_result"
    }
   ],
   "source": [
    "sim_eg_lock0.predict(epsilon_greedy_lock0)\n",
    "sim_eg_lock0.cfe(alpha=0.05)"
   ]
  },
  {
   "cell_type": "code",
   "execution_count": 48,
   "id": "a67ee050",
   "metadata": {
    "collapsed": false,
    "pycharm": {
     "name": "#%%\n"
    }
   },
   "outputs": [
    {
     "data": {
      "text/plain": "               slot_0    slot_1  all_slots\nname metric                               \ncb   est     0.794600  0.401440   1.196040\n     lb      0.786547  0.392401   1.178948\n     ub      0.802481  0.412773   1.215255\nccb  est     0.794600  0.401440   1.196040\n     lb      0.786682  0.391299   1.177981\n     ub      0.802518  0.411582   1.214100",
      "text/html": "<div>\n<style scoped>\n    .dataframe tbody tr th:only-of-type {\n        vertical-align: middle;\n    }\n\n    .dataframe tbody tr th {\n        vertical-align: top;\n    }\n\n    .dataframe thead th {\n        text-align: right;\n    }\n</style>\n<table border=\"1\" class=\"dataframe\">\n  <thead>\n    <tr style=\"text-align: right;\">\n      <th></th>\n      <th></th>\n      <th>slot_0</th>\n      <th>slot_1</th>\n      <th>all_slots</th>\n    </tr>\n    <tr>\n      <th>name</th>\n      <th>metric</th>\n      <th></th>\n      <th></th>\n      <th></th>\n    </tr>\n  </thead>\n  <tbody>\n    <tr>\n      <th rowspan=\"3\" valign=\"top\">cb</th>\n      <th>est</th>\n      <td>0.794600</td>\n      <td>0.401440</td>\n      <td>1.196040</td>\n    </tr>\n    <tr>\n      <th>lb</th>\n      <td>0.786547</td>\n      <td>0.392401</td>\n      <td>1.178948</td>\n    </tr>\n    <tr>\n      <th>ub</th>\n      <td>0.802481</td>\n      <td>0.412773</td>\n      <td>1.215255</td>\n    </tr>\n    <tr>\n      <th rowspan=\"3\" valign=\"top\">ccb</th>\n      <th>est</th>\n      <td>0.794600</td>\n      <td>0.401440</td>\n      <td>1.196040</td>\n    </tr>\n    <tr>\n      <th>lb</th>\n      <td>0.786682</td>\n      <td>0.391299</td>\n      <td>1.177981</td>\n    </tr>\n    <tr>\n      <th>ub</th>\n      <td>0.802518</td>\n      <td>0.411582</td>\n      <td>1.214100</td>\n    </tr>\n  </tbody>\n</table>\n</div>"
     },
     "execution_count": 48,
     "metadata": {},
     "output_type": "execute_result"
    }
   ],
   "source": [
    "sim_eg_lock0.predict(baseline_1_lock0)\n",
    "sim_eg_lock0.cfe(alpha=0.05)"
   ]
  },
  {
   "cell_type": "code",
   "execution_count": 49,
   "id": "fbb1f510",
   "metadata": {
    "collapsed": false,
    "pycharm": {
     "name": "#%%\n"
    }
   },
   "outputs": [
    {
     "data": {
      "text/plain": "               slot_0    slot_1  all_slots\nname metric                               \ncb   est     0.794600  0.302135   1.096735\n     lb      0.786547  0.278775   1.065321\n     ub      0.802481  0.319372   1.121854\nccb  est     0.794600  0.303020   1.097620\n     lb      0.786682  0.284780   1.071462\n     ub      0.802518  0.334993   1.137511",
      "text/html": "<div>\n<style scoped>\n    .dataframe tbody tr th:only-of-type {\n        vertical-align: middle;\n    }\n\n    .dataframe tbody tr th {\n        vertical-align: top;\n    }\n\n    .dataframe thead th {\n        text-align: right;\n    }\n</style>\n<table border=\"1\" class=\"dataframe\">\n  <thead>\n    <tr style=\"text-align: right;\">\n      <th></th>\n      <th></th>\n      <th>slot_0</th>\n      <th>slot_1</th>\n      <th>all_slots</th>\n    </tr>\n    <tr>\n      <th>name</th>\n      <th>metric</th>\n      <th></th>\n      <th></th>\n      <th></th>\n    </tr>\n  </thead>\n  <tbody>\n    <tr>\n      <th rowspan=\"3\" valign=\"top\">cb</th>\n      <th>est</th>\n      <td>0.794600</td>\n      <td>0.302135</td>\n      <td>1.096735</td>\n    </tr>\n    <tr>\n      <th>lb</th>\n      <td>0.786547</td>\n      <td>0.278775</td>\n      <td>1.065321</td>\n    </tr>\n    <tr>\n      <th>ub</th>\n      <td>0.802481</td>\n      <td>0.319372</td>\n      <td>1.121854</td>\n    </tr>\n    <tr>\n      <th rowspan=\"3\" valign=\"top\">ccb</th>\n      <th>est</th>\n      <td>0.794600</td>\n      <td>0.303020</td>\n      <td>1.097620</td>\n    </tr>\n    <tr>\n      <th>lb</th>\n      <td>0.786682</td>\n      <td>0.284780</td>\n      <td>1.071462</td>\n    </tr>\n    <tr>\n      <th>ub</th>\n      <td>0.802518</td>\n      <td>0.334993</td>\n      <td>1.137511</td>\n    </tr>\n  </tbody>\n</table>\n</div>"
     },
     "execution_count": 49,
     "metadata": {},
     "output_type": "execute_result"
    }
   ],
   "source": [
    "sim_eg_lock0.predict(baseline_random_lock0)\n",
    "sim_eg_lock0.cfe(alpha=0.05)"
   ]
  },
  {
   "cell_type": "markdown",
   "id": "7f075271",
   "metadata": {
    "collapsed": false,
    "pycharm": {
     "name": "#%% md\n"
    }
   },
   "source": [
    "## Variable slots count"
   ]
  },
  {
   "cell_type": "code",
   "execution_count": 50,
   "id": "3f78ca1e",
   "metadata": {
    "collapsed": false,
    "pycharm": {
     "name": "#%%\n"
    }
   },
   "outputs": [],
   "source": [
    "epsilon = 0.2\n",
    "\n",
    "rewards_1 = np.array([\n",
    "    [0.2, 0.8]])\n",
    "\n",
    "rewards_2 = np.array([\n",
    "    [0.2, 0.8],\n",
    "    [0.4, 0.8]])\n",
    "\n",
    "eg = EpsilonGreedy(epsilon)\n",
    "\n",
    "epsilon_greedy = [\n",
    "    (eg.explore(2), [\n",
    "        (1, [])\n",
    "    ]),\n",
    "    (eg.exploit(2), [\n",
    "        (1, [])\n",
    "    ])\n",
    "]"
   ]
  },
  {
   "cell_type": "code",
   "execution_count": 51,
   "id": "560df604",
   "metadata": {
    "collapsed": false,
    "pycharm": {
     "name": "#%%\n"
    }
   },
   "outputs": [
    {
     "data": {
      "text/plain": "array([[0.2, 0.8],\n       [0.4, 0.8]])"
     },
     "execution_count": 51,
     "metadata": {},
     "output_type": "execute_result"
    }
   ],
   "source": [
    "n = 10000\n",
    "sim_eg = CcbSimulation(n, [Traffic(rewards_1, epsilon_greedy, 0.5), Traffic(rewards_2, epsilon_greedy, 0.5)])\n",
    "sim_b1 = CcbSimulation(n, [Traffic(rewards_1, baseline_1(2), 0.5), Traffic(rewards_2, baseline_1(2), 0.5)])\n",
    "sim_br = CcbSimulation(n, [Traffic(rewards_1, baseline_random(2), 0.5), Traffic(rewards_2, baseline_random(2), 0.5)])\n",
    "rewards_2"
   ]
  },
  {
   "cell_type": "code",
   "execution_count": 52,
   "id": "d71ba9a9",
   "metadata": {
    "collapsed": false,
    "pycharm": {
     "name": "#%%\n"
    }
   },
   "outputs": [
    {
     "data": {
      "text/plain": "                policy  slot_0    slot_1  all_slots\n0  epsilon-greedy(0.2)  0.7456  0.431698   1.177298\n1           baseline_1  0.1973  0.798365   0.995665\n2      baseline_random  0.4932  0.595074   1.088274",
      "text/html": "<div>\n<style scoped>\n    .dataframe tbody tr th:only-of-type {\n        vertical-align: middle;\n    }\n\n    .dataframe tbody tr th {\n        vertical-align: top;\n    }\n\n    .dataframe thead th {\n        text-align: right;\n    }\n</style>\n<table border=\"1\" class=\"dataframe\">\n  <thead>\n    <tr style=\"text-align: right;\">\n      <th></th>\n      <th>policy</th>\n      <th>slot_0</th>\n      <th>slot_1</th>\n      <th>all_slots</th>\n    </tr>\n  </thead>\n  <tbody>\n    <tr>\n      <th>0</th>\n      <td>epsilon-greedy(0.2)</td>\n      <td>0.7456</td>\n      <td>0.431698</td>\n      <td>1.177298</td>\n    </tr>\n    <tr>\n      <th>1</th>\n      <td>baseline_1</td>\n      <td>0.1973</td>\n      <td>0.798365</td>\n      <td>0.995665</td>\n    </tr>\n    <tr>\n      <th>2</th>\n      <td>baseline_random</td>\n      <td>0.4932</td>\n      <td>0.595074</td>\n      <td>1.088274</td>\n    </tr>\n  </tbody>\n</table>\n</div>"
     },
     "execution_count": 52,
     "metadata": {},
     "output_type": "execute_result"
    }
   ],
   "source": [
    "simulation_stats = pd.DataFrame([\n",
    "    {'policy': f'epsilon-greedy({epsilon})', 'slot_0': sim_eg[sim_eg[\"slot\"]==0][\"r\"].mean(), 'slot_1': sim_eg[sim_eg[\"slot\"]==1][\"r\"].mean()},\n",
    "    {'policy': f'baseline_1', 'slot_0': sim_b1[sim_b1[\"slot\"]==0][\"r\"].mean(), 'slot_1': sim_b1[sim_b1[\"slot\"]==1][\"r\"].mean()},\n",
    "    {'policy': f'baseline_random', 'slot_0': sim_br[sim_br[\"slot\"]==0][\"r\"].mean(), 'slot_1': sim_br[sim_br[\"slot\"]==1][\"r\"].mean()},\n",
    "])\n",
    "simulation_stats['all_slots'] = simulation_stats['slot_0'] + simulation_stats['slot_1']\n",
    "simulation_stats"
   ]
  },
  {
   "cell_type": "code",
   "execution_count": 53,
   "id": "f89ab64d",
   "metadata": {
    "collapsed": false,
    "pycharm": {
     "name": "#%%\n"
    }
   },
   "outputs": [
    {
     "data": {
      "text/plain": "               slot_0    slot_1  all_slots\nname metric                               \ncb   est     0.501992  0.431698   0.933690\n     lb      0.481845  0.417820   0.899666\n     ub      0.526143  0.445657   0.971800\nccb  est     0.503465  0.295316   0.798781\n     lb      0.490358  0.279542   0.769900\n     ub      0.523086  0.312064   0.835150",
      "text/html": "<div>\n<style scoped>\n    .dataframe tbody tr th:only-of-type {\n        vertical-align: middle;\n    }\n\n    .dataframe tbody tr th {\n        vertical-align: top;\n    }\n\n    .dataframe thead th {\n        text-align: right;\n    }\n</style>\n<table border=\"1\" class=\"dataframe\">\n  <thead>\n    <tr style=\"text-align: right;\">\n      <th></th>\n      <th></th>\n      <th>slot_0</th>\n      <th>slot_1</th>\n      <th>all_slots</th>\n    </tr>\n    <tr>\n      <th>name</th>\n      <th>metric</th>\n      <th></th>\n      <th></th>\n      <th></th>\n    </tr>\n  </thead>\n  <tbody>\n    <tr>\n      <th rowspan=\"3\" valign=\"top\">cb</th>\n      <th>est</th>\n      <td>0.501992</td>\n      <td>0.431698</td>\n      <td>0.933690</td>\n    </tr>\n    <tr>\n      <th>lb</th>\n      <td>0.481845</td>\n      <td>0.417820</td>\n      <td>0.899666</td>\n    </tr>\n    <tr>\n      <th>ub</th>\n      <td>0.526143</td>\n      <td>0.445657</td>\n      <td>0.971800</td>\n    </tr>\n    <tr>\n      <th rowspan=\"3\" valign=\"top\">ccb</th>\n      <th>est</th>\n      <td>0.503465</td>\n      <td>0.295316</td>\n      <td>0.798781</td>\n    </tr>\n    <tr>\n      <th>lb</th>\n      <td>0.490358</td>\n      <td>0.279542</td>\n      <td>0.769900</td>\n    </tr>\n    <tr>\n      <th>ub</th>\n      <td>0.523086</td>\n      <td>0.312064</td>\n      <td>0.835150</td>\n    </tr>\n  </tbody>\n</table>\n</div>"
     },
     "execution_count": 53,
     "metadata": {},
     "output_type": "execute_result"
    }
   ],
   "source": [
    "sim_eg.predict(baseline_random(2))\n",
    "sim_eg.cfe(alpha=0.05)"
   ]
  },
  {
   "cell_type": "code",
   "execution_count": 54,
   "id": "7e06679f",
   "metadata": {
    "collapsed": false,
    "pycharm": {
     "name": "#%%\n"
    }
   },
   "outputs": [
    {
     "data": {
      "text/plain": "               slot_0    slot_1  all_slots\nname metric                               \ncb   est     0.200198  0.773077   0.973275\n     lb      0.177522  0.073990   0.251513\n     ub      0.228246  0.089460   0.317706\nccb  est     0.200198  0.398414   0.598612\n     lb      0.175285  0.367934   0.543219\n     ub      0.239615  0.433866   0.673481",
      "text/html": "<div>\n<style scoped>\n    .dataframe tbody tr th:only-of-type {\n        vertical-align: middle;\n    }\n\n    .dataframe tbody tr th {\n        vertical-align: top;\n    }\n\n    .dataframe thead th {\n        text-align: right;\n    }\n</style>\n<table border=\"1\" class=\"dataframe\">\n  <thead>\n    <tr style=\"text-align: right;\">\n      <th></th>\n      <th></th>\n      <th>slot_0</th>\n      <th>slot_1</th>\n      <th>all_slots</th>\n    </tr>\n    <tr>\n      <th>name</th>\n      <th>metric</th>\n      <th></th>\n      <th></th>\n      <th></th>\n    </tr>\n  </thead>\n  <tbody>\n    <tr>\n      <th rowspan=\"3\" valign=\"top\">cb</th>\n      <th>est</th>\n      <td>0.200198</td>\n      <td>0.773077</td>\n      <td>0.973275</td>\n    </tr>\n    <tr>\n      <th>lb</th>\n      <td>0.177522</td>\n      <td>0.073990</td>\n      <td>0.251513</td>\n    </tr>\n    <tr>\n      <th>ub</th>\n      <td>0.228246</td>\n      <td>0.089460</td>\n      <td>0.317706</td>\n    </tr>\n    <tr>\n      <th rowspan=\"3\" valign=\"top\">ccb</th>\n      <th>est</th>\n      <td>0.200198</td>\n      <td>0.398414</td>\n      <td>0.598612</td>\n    </tr>\n    <tr>\n      <th>lb</th>\n      <td>0.175285</td>\n      <td>0.367934</td>\n      <td>0.543219</td>\n    </tr>\n    <tr>\n      <th>ub</th>\n      <td>0.239615</td>\n      <td>0.433866</td>\n      <td>0.673481</td>\n    </tr>\n  </tbody>\n</table>\n</div>"
     },
     "execution_count": 54,
     "metadata": {},
     "output_type": "execute_result"
    }
   ],
   "source": [
    "sim_eg.predict(baseline_1(2))\n",
    "sim_eg.cfe(alpha=0.05)"
   ]
  },
  {
   "cell_type": "code",
   "execution_count": 55,
   "id": "9e69f4d6",
   "metadata": {
    "collapsed": false,
    "pycharm": {
     "name": "#%%\n"
    }
   },
   "outputs": [
    {
     "data": {
      "text/plain": "               slot_0    slot_1  all_slots\nname metric                               \ncb   est     0.745600  0.431698   1.177298\n     lb      0.736943  0.417820   1.154763\n     ub      0.754114  0.445657   1.199771\nccb  est     0.745600  0.213000   0.958600\n     lb      0.737064  0.204975   0.942039\n     ub      0.754136  0.221025   0.975161",
      "text/html": "<div>\n<style scoped>\n    .dataframe tbody tr th:only-of-type {\n        vertical-align: middle;\n    }\n\n    .dataframe tbody tr th {\n        vertical-align: top;\n    }\n\n    .dataframe thead th {\n        text-align: right;\n    }\n</style>\n<table border=\"1\" class=\"dataframe\">\n  <thead>\n    <tr style=\"text-align: right;\">\n      <th></th>\n      <th></th>\n      <th>slot_0</th>\n      <th>slot_1</th>\n      <th>all_slots</th>\n    </tr>\n    <tr>\n      <th>name</th>\n      <th>metric</th>\n      <th></th>\n      <th></th>\n      <th></th>\n    </tr>\n  </thead>\n  <tbody>\n    <tr>\n      <th rowspan=\"3\" valign=\"top\">cb</th>\n      <th>est</th>\n      <td>0.745600</td>\n      <td>0.431698</td>\n      <td>1.177298</td>\n    </tr>\n    <tr>\n      <th>lb</th>\n      <td>0.736943</td>\n      <td>0.417820</td>\n      <td>1.154763</td>\n    </tr>\n    <tr>\n      <th>ub</th>\n      <td>0.754114</td>\n      <td>0.445657</td>\n      <td>1.199771</td>\n    </tr>\n    <tr>\n      <th rowspan=\"3\" valign=\"top\">ccb</th>\n      <th>est</th>\n      <td>0.745600</td>\n      <td>0.213000</td>\n      <td>0.958600</td>\n    </tr>\n    <tr>\n      <th>lb</th>\n      <td>0.737064</td>\n      <td>0.204975</td>\n      <td>0.942039</td>\n    </tr>\n    <tr>\n      <th>ub</th>\n      <td>0.754136</td>\n      <td>0.221025</td>\n      <td>0.975161</td>\n    </tr>\n  </tbody>\n</table>\n</div>"
     },
     "execution_count": 55,
     "metadata": {},
     "output_type": "execute_result"
    }
   ],
   "source": [
    "sim_eg.predict(epsilon_greedy)\n",
    "sim_eg.cfe(alpha=0.05)"
   ]
  },
  {
   "cell_type": "code",
   "execution_count": null,
   "outputs": [],
   "source": [],
   "metadata": {
    "collapsed": false,
    "pycharm": {
     "name": "#%%\n"
    }
   }
  }
 ],
 "metadata": {
  "kernelspec": {
   "display_name": "Python 3 (ipykernel)",
   "language": "python",
   "name": "python3"
  },
  "language_info": {
   "codemirror_mode": {
    "name": "ipython",
    "version": 3
   },
   "file_extension": ".py",
   "mimetype": "text/x-python",
   "name": "python",
   "nbconvert_exporter": "python",
   "pygments_lexer": "ipython3",
   "version": "3.9.5"
  }
 },
 "nbformat": 4,
 "nbformat_minor": 5
}