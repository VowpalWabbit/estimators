{
 "cells": [
  {
   "cell_type": "markdown",
   "id": "8ec8cbb8-b8b9-43c4-b711-1ccb0a6e3a57",
   "metadata": {},
   "source": [
    "# Simple test"
   ]
  },
  {
   "cell_type": "code",
   "execution_count": 1,
   "id": "7c51bc5a-61e7-47a5-b44b-ee77254eeae9",
   "metadata": {},
   "outputs": [],
   "source": [
    "from estimators.ccb import pdis_cressieread\n",
    "from estimators.bandits import snips\n",
    "from estimators.bandits import clopper_pearson\n",
    "\n",
    "cb_est = snips.Estimator()\n",
    "cb_int = clopper_pearson.Interval()\n",
    "\n",
    "ccb_est = pdis_cressieread.Estimator()\n",
    "ccb_int = pdis_cressieread.Interval()"
   ]
  },
  {
   "cell_type": "code",
   "execution_count": 2,
   "id": "bfb06f8b-e18f-4c86-8478-c60be8ec983f",
   "metadata": {},
   "outputs": [
    {
     "name": "stdout",
     "output_type": "stream",
     "text": [
      "estimate: [1.0, 2.0, 3.0000000000000426]\n",
      "interval: [[0, 1], [0, 1], [0, 1]]\n"
     ]
    }
   ],
   "source": [
    "ccb_est.add_example([0.1, 0.1, 0.1], [1,2,3], [0.5, 0.5, 0.5])\n",
    "print(f'estimate: {ccb_est.get()}')\n",
    "\n",
    "ccb_int.add_example([0.1, 0.1, 0.1], [1,2,3], [0.5, 0.5, 0.5])\n",
    "print(f'interval: {ccb_int.get()}')"
   ]
  },
  {
   "cell_type": "code",
   "execution_count": 3,
   "outputs": [
    {
     "name": "stdout",
     "output_type": "stream",
     "text": [
      "estimate: [0.900224424911165, 0.7201795399289322]\n"
     ]
    }
   ],
   "source": [
    "                #action 0           #action 1\n",
    "# slot 0           1                    0\n",
    "# slot 1           0                    0.8\n",
    "ccb_est = pdis_cressieread.Estimator()\n",
    "epsilon = 0.1\n",
    "for i in range(1000):\n",
    "    ccb_est.add_example(p_preds = [1 - epsilon if i%2 else epsilon, 1], rs = [i % 2, 0.8 * (i % 2)], p_logs = [0.5, 1])\n",
    "print(f'estimate: {ccb_est.get()}')"
   ],
   "metadata": {
    "collapsed": false,
    "pycharm": {
     "name": "#%%\n"
    }
   }
  },
  {
   "cell_type": "markdown",
   "id": "7983d7ab-432d-4fd3-a9a8-ac763ec911f8",
   "metadata": {},
   "source": [
    "# Simulator"
   ]
  },
  {
   "cell_type": "code",
   "execution_count": 4,
   "id": "743191bd-6334-4b4f-970c-d488f272789b",
   "metadata": {},
   "outputs": [],
   "source": [
    "# a0, a1, a2\n",
    "# s0, s1\n",
    "\n",
    "# matrix of rewards r_ij (i is 0,1, j is 0,1,2)\n",
    "# online policy: epsilon greedy \n",
    "\n",
    "import numpy as np\n",
    "import random\n",
    "import pandas as pd\n",
    "\n",
    "class EpsilonGreedy:\n",
    "    def __init__(self, epsilon):\n",
    "        self.epsilon = epsilon\n",
    "\n",
    "    def explore(self, n):\n",
    "        return self.epsilon / n\n",
    "\n",
    "    def exploit(self, n):\n",
    "        return self.epsilon / n + 1 - self.epsilon\n",
    "\n",
    "class CcbSimulation(pd.DataFrame):\n",
    "    def __init__(self, n, rewards, policy):\n",
    "        slots = []\n",
    "        nactions = len(rewards[0])\n",
    "        nslots = len(rewards)\n",
    "        for i in range(n):\n",
    "            actions = list(range(nactions))\n",
    "            state = policy\n",
    "            for j in range(nslots):\n",
    "                pmf = [a[0] for a in state]\n",
    "                chosen_idx = np.random.choice(range(len(pmf)), p=pmf)\n",
    "                chosen = actions[chosen_idx]\n",
    "                state = state[chosen_idx][1]\n",
    "                r = int(random.random() < rewards[j][chosen])\n",
    "                actions = sorted(set(actions) - {actions[chosen_idx]})\n",
    "                slots.append({'session': i, 'slot': j, 'p_log': pmf[chosen_idx], 'r': r, 'chosen': chosen, 'chosen_idx': chosen_idx})\n",
    "        super().__init__(slots)\n",
    "\n",
    "    def predict(self, policy):\n",
    "        p_pred = []\n",
    "        for _, e in self.sessions.iterrows():\n",
    "            state = policy\n",
    "            for i in range(len(e['p_log'])):\n",
    "                pmf = [a[0] for a in state]\n",
    "                chosen_idx = e['chosen_idx'][i]\n",
    "                p_pred.append(pmf[chosen_idx])\n",
    "                state = state[chosen_idx][1]\n",
    "        self['p_pred'] = p_pred\n",
    "\n",
    "    def cfe(self, alpha=0.05):\n",
    "        nslots = self['slot'].max() + 1\n",
    "        cb_est = [snips.Estimator() for i in range(nslots)]\n",
    "        cb_int = [clopper_pearson.Interval() for i in range(nslots)]\n",
    "\n",
    "        ccb_est = pdis_cressieread.Estimator()\n",
    "        ccb_int = pdis_cressieread.Interval()\n",
    "\n",
    "        for _, e  in self.sessions.iterrows():\n",
    "            for i in range(len(e['p_pred'])):\n",
    "                cb_est[i].add_example(p_pred=e['p_pred'][i], r=e['r'][i], p_log=e['p_log'][i])\n",
    "                cb_int[i].add_example(p_pred=e['p_pred'][i], r=e['r'][i], p_log=e['p_log'][i])\n",
    "\n",
    "            ccb_int.add_example(p_preds=e['p_pred'], rs=e['r'], p_logs=e['p_log'])\n",
    "            ccb_est.add_example(p_preds=e['p_pred'], rs=e['r'], p_logs=e['p_log'])\n",
    "\n",
    "        cb_int_results = [i.get(alpha) for i in cb_int]\n",
    "        ccb_int_result = ccb_int.get(alpha)\n",
    "\n",
    "        ccb_est_result = ccb_est.get()\n",
    "        result = pd.DataFrame([\n",
    "                dict({'name': 'cb', 'metric': 'est'}, **{f'slot_{i}': cb_est[i].get() for i in range(nslots)}),\n",
    "                dict({'name': 'cb', 'metric': 'lb'}, **{f'slot_{i}': cb_int_results[i][0] for i in range(nslots)}),\n",
    "                dict({'name': 'cb', 'metric': 'ub'}, **{f'slot_{i}': cb_int_results[i][1] for i in range(nslots)}),\n",
    "                dict({'name': 'ccb', 'metric': 'est'}, **{f'slot_{i}': ccb_est_result[i] for i in range(nslots)}),\n",
    "                dict({'name': 'ccb', 'metric': 'lb'}, **{f'slot_{i}': ccb_int_result[i][0] for i in range(nslots)}),\n",
    "                dict({'name': 'ccb', 'metric': 'ub'}, **{f'slot_{i}': ccb_int_result[i][1] for i in range(nslots)}),\n",
    "        ])\n",
    "        result['all_slots'] = result['slot_0'] + result['slot_1']\n",
    "        return result.set_index(['name', 'metric'])\n",
    "\n",
    "    @property\n",
    "    def sessions(self):\n",
    "        agg = {'p_log': list, 'r': list, 'chosen': list, 'chosen_idx': list}\n",
    "        if 'p_pred' in self.columns:\n",
    "            agg['p_pred'] = list\n",
    "        return self.groupby('session').agg(agg)\n",
    "\n",
    "def generate(n, r00, r01, r02, r10, r11, r12, epsilon):\n",
    "    rewards = np.array([[r00, r01, r02],[r10, r11, r12]])\n",
    "    return CcbSimulation(n, rewards, epsilon)"
   ]
  },
  {
   "cell_type": "markdown",
   "source": [
    "## No slot dependencies"
   ],
   "metadata": {
    "collapsed": false,
    "pycharm": {
     "name": "#%% md\n"
    }
   }
  },
  {
   "cell_type": "code",
   "execution_count": 5,
   "outputs": [],
   "source": [
    "epsilon = 0.2\n",
    "\n",
    "rewards = np.array([\n",
    "    [0.4, 0.8, 0.2],\n",
    "    [0.4, 0.8, 0.2]])\n",
    "\n",
    "eg = EpsilonGreedy(epsilon)\n",
    "epsilon_greedy = [\n",
    "    (eg.explore(3), [               #0\n",
    "        (eg.exploit(2), []),        #1\n",
    "        (eg.explore(2), []),        #2\n",
    "    ]),\n",
    "    (eg.exploit(3), [               #1\n",
    "        (eg.exploit(2), []),        #0\n",
    "        (eg.explore(2), []),        #2\n",
    "    ]),\n",
    "    (eg.explore(3), [               #2\n",
    "        (eg.explore(2), []),        #0\n",
    "        (eg.exploit(2), []),        #1\n",
    "    ])\n",
    "]\n",
    "\n",
    "baseline_random = [\n",
    "    (1/3, [\n",
    "        (1/2, []),\n",
    "        (1/2, []),\n",
    "    ]),\n",
    "    (1/3, [\n",
    "        (1/2, []),\n",
    "        (1/2, []),\n",
    "    ]),\n",
    "    (1/3, [\n",
    "        (1/2, []),\n",
    "        (1/2, []),\n",
    "    ])\n",
    "]\n",
    "\n",
    "baseline_1 = [\n",
    "    (1, [\n",
    "        (1, []),\n",
    "        (0, []),\n",
    "    ]),\n",
    "    (0, [\n",
    "        (0, []),\n",
    "        (0, []),\n",
    "    ]),\n",
    "    (0, [\n",
    "        (0, []),\n",
    "        (1, []),\n",
    "    ])\n",
    "]"
   ],
   "metadata": {
    "collapsed": false,
    "pycharm": {
     "name": "#%%\n"
    }
   }
  },
  {
   "cell_type": "code",
   "execution_count": 6,
   "outputs": [],
   "source": [
    "n = 10000\n",
    "sim_eg = CcbSimulation(n, rewards, epsilon_greedy)\n",
    "sim_b1 = CcbSimulation(n, rewards, baseline_1)\n",
    "sim_br = CcbSimulation(n, rewards, baseline_random)"
   ],
   "metadata": {
    "collapsed": false,
    "pycharm": {
     "name": "#%%\n"
    }
   }
  },
  {
   "cell_type": "code",
   "execution_count": 7,
   "outputs": [
    {
     "data": {
      "text/plain": "                policy  slot_0  slot_1  all_slots\n0  epsilon-greedy(0.2)  0.7231  0.4347     1.1578\n1           baseline_1  0.3938  0.7995     1.1933\n2      baseline_random  0.4735  0.4623     0.9358",
      "text/html": "<div>\n<style scoped>\n    .dataframe tbody tr th:only-of-type {\n        vertical-align: middle;\n    }\n\n    .dataframe tbody tr th {\n        vertical-align: top;\n    }\n\n    .dataframe thead th {\n        text-align: right;\n    }\n</style>\n<table border=\"1\" class=\"dataframe\">\n  <thead>\n    <tr style=\"text-align: right;\">\n      <th></th>\n      <th>policy</th>\n      <th>slot_0</th>\n      <th>slot_1</th>\n      <th>all_slots</th>\n    </tr>\n  </thead>\n  <tbody>\n    <tr>\n      <th>0</th>\n      <td>epsilon-greedy(0.2)</td>\n      <td>0.7231</td>\n      <td>0.4347</td>\n      <td>1.1578</td>\n    </tr>\n    <tr>\n      <th>1</th>\n      <td>baseline_1</td>\n      <td>0.3938</td>\n      <td>0.7995</td>\n      <td>1.1933</td>\n    </tr>\n    <tr>\n      <th>2</th>\n      <td>baseline_random</td>\n      <td>0.4735</td>\n      <td>0.4623</td>\n      <td>0.9358</td>\n    </tr>\n  </tbody>\n</table>\n</div>"
     },
     "execution_count": 7,
     "metadata": {},
     "output_type": "execute_result"
    }
   ],
   "source": [
    "simulation_stats = pd.DataFrame([\n",
    "    {'policy': f'epsilon-greedy({epsilon})', 'slot_0': sim_eg[sim_eg[\"slot\"]==0][\"r\"].mean(), 'slot_1': sim_eg[sim_eg[\"slot\"]==1][\"r\"].mean()},\n",
    "    {'policy': f'baseline_1', 'slot_0': sim_b1[sim_b1[\"slot\"]==0][\"r\"].mean(), 'slot_1': sim_b1[sim_b1[\"slot\"]==1][\"r\"].mean()},\n",
    "    {'policy': f'baseline_random', 'slot_0': sim_br[sim_b1[\"slot\"]==0][\"r\"].mean(), 'slot_1': sim_br[sim_b1[\"slot\"]==1][\"r\"].mean()},\n",
    "])\n",
    "simulation_stats['all_slots'] = simulation_stats['slot_0'] + simulation_stats['slot_1']\n",
    "simulation_stats"
   ],
   "metadata": {
    "collapsed": false,
    "pycharm": {
     "name": "#%%\n"
    }
   }
  },
  {
   "cell_type": "code",
   "execution_count": 8,
   "outputs": [
    {
     "data": {
      "text/plain": "               slot_0    slot_1  all_slots\nname metric                               \ncb   est     0.730676  0.621653   1.352329\n     lb      0.720036  0.611251   1.331287\n     ub      0.748207  0.636898   1.385105\nccb  est     0.730170  0.425539   1.155709\n     lb      0.714693  0.406913   1.121605\n     ub      0.742185  0.445140   1.187325",
      "text/html": "<div>\n<style scoped>\n    .dataframe tbody tr th:only-of-type {\n        vertical-align: middle;\n    }\n\n    .dataframe tbody tr th {\n        vertical-align: top;\n    }\n\n    .dataframe thead th {\n        text-align: right;\n    }\n</style>\n<table border=\"1\" class=\"dataframe\">\n  <thead>\n    <tr style=\"text-align: right;\">\n      <th></th>\n      <th></th>\n      <th>slot_0</th>\n      <th>slot_1</th>\n      <th>all_slots</th>\n    </tr>\n    <tr>\n      <th>name</th>\n      <th>metric</th>\n      <th></th>\n      <th></th>\n      <th></th>\n    </tr>\n  </thead>\n  <tbody>\n    <tr>\n      <th rowspan=\"3\" valign=\"top\">cb</th>\n      <th>est</th>\n      <td>0.730676</td>\n      <td>0.621653</td>\n      <td>1.352329</td>\n    </tr>\n    <tr>\n      <th>lb</th>\n      <td>0.720036</td>\n      <td>0.611251</td>\n      <td>1.331287</td>\n    </tr>\n    <tr>\n      <th>ub</th>\n      <td>0.748207</td>\n      <td>0.636898</td>\n      <td>1.385105</td>\n    </tr>\n    <tr>\n      <th rowspan=\"3\" valign=\"top\">ccb</th>\n      <th>est</th>\n      <td>0.730170</td>\n      <td>0.425539</td>\n      <td>1.155709</td>\n    </tr>\n    <tr>\n      <th>lb</th>\n      <td>0.714693</td>\n      <td>0.406913</td>\n      <td>1.121605</td>\n    </tr>\n    <tr>\n      <th>ub</th>\n      <td>0.742185</td>\n      <td>0.445140</td>\n      <td>1.187325</td>\n    </tr>\n  </tbody>\n</table>\n</div>"
     },
     "execution_count": 8,
     "metadata": {},
     "output_type": "execute_result"
    }
   ],
   "source": [
    "sim_br.predict(epsilon_greedy)\n",
    "sim_br.cfe(alpha=0.05)"
   ],
   "metadata": {
    "collapsed": false,
    "pycharm": {
     "name": "#%%\n"
    }
   }
  },
  {
   "cell_type": "code",
   "execution_count": 9,
   "outputs": [
    {
     "data": {
      "text/plain": "               slot_0    slot_1  all_slots\nname metric                               \ncb   est     0.404058  0.794795   1.198854\n     lb      0.389466  0.517453   0.906919\n     ub      0.423099  0.545310   0.968409\nccb  est     0.404058  0.793594   1.197653\n     lb      0.387356  0.766814   1.154170\n     ub      0.421591  0.813138   1.234729",
      "text/html": "<div>\n<style scoped>\n    .dataframe tbody tr th:only-of-type {\n        vertical-align: middle;\n    }\n\n    .dataframe tbody tr th {\n        vertical-align: top;\n    }\n\n    .dataframe thead th {\n        text-align: right;\n    }\n</style>\n<table border=\"1\" class=\"dataframe\">\n  <thead>\n    <tr style=\"text-align: right;\">\n      <th></th>\n      <th></th>\n      <th>slot_0</th>\n      <th>slot_1</th>\n      <th>all_slots</th>\n    </tr>\n    <tr>\n      <th>name</th>\n      <th>metric</th>\n      <th></th>\n      <th></th>\n      <th></th>\n    </tr>\n  </thead>\n  <tbody>\n    <tr>\n      <th rowspan=\"3\" valign=\"top\">cb</th>\n      <th>est</th>\n      <td>0.404058</td>\n      <td>0.794795</td>\n      <td>1.198854</td>\n    </tr>\n    <tr>\n      <th>lb</th>\n      <td>0.389466</td>\n      <td>0.517453</td>\n      <td>0.906919</td>\n    </tr>\n    <tr>\n      <th>ub</th>\n      <td>0.423099</td>\n      <td>0.545310</td>\n      <td>0.968409</td>\n    </tr>\n    <tr>\n      <th rowspan=\"3\" valign=\"top\">ccb</th>\n      <th>est</th>\n      <td>0.404058</td>\n      <td>0.793594</td>\n      <td>1.197653</td>\n    </tr>\n    <tr>\n      <th>lb</th>\n      <td>0.387356</td>\n      <td>0.766814</td>\n      <td>1.154170</td>\n    </tr>\n    <tr>\n      <th>ub</th>\n      <td>0.421591</td>\n      <td>0.813138</td>\n      <td>1.234729</td>\n    </tr>\n  </tbody>\n</table>\n</div>"
     },
     "execution_count": 9,
     "metadata": {},
     "output_type": "execute_result"
    }
   ],
   "source": [
    "sim_br.predict(baseline_1)\n",
    "sim_br.cfe(alpha=0.05)"
   ],
   "metadata": {
    "collapsed": false,
    "pycharm": {
     "name": "#%%\n"
    }
   }
  },
  {
   "cell_type": "code",
   "execution_count": 10,
   "outputs": [
    {
     "data": {
      "text/plain": "               slot_0    slot_1  all_slots\nname metric                               \ncb   est     0.473500  0.462300   0.935800\n     lb      0.463673  0.452490   0.916163\n     ub      0.483343  0.472132   0.955474\nccb  est     0.473500  0.462300   0.935800\n     lb      0.463714  0.452528   0.916242\n     ub      0.483286  0.472072   0.955358",
      "text/html": "<div>\n<style scoped>\n    .dataframe tbody tr th:only-of-type {\n        vertical-align: middle;\n    }\n\n    .dataframe tbody tr th {\n        vertical-align: top;\n    }\n\n    .dataframe thead th {\n        text-align: right;\n    }\n</style>\n<table border=\"1\" class=\"dataframe\">\n  <thead>\n    <tr style=\"text-align: right;\">\n      <th></th>\n      <th></th>\n      <th>slot_0</th>\n      <th>slot_1</th>\n      <th>all_slots</th>\n    </tr>\n    <tr>\n      <th>name</th>\n      <th>metric</th>\n      <th></th>\n      <th></th>\n      <th></th>\n    </tr>\n  </thead>\n  <tbody>\n    <tr>\n      <th rowspan=\"3\" valign=\"top\">cb</th>\n      <th>est</th>\n      <td>0.473500</td>\n      <td>0.462300</td>\n      <td>0.935800</td>\n    </tr>\n    <tr>\n      <th>lb</th>\n      <td>0.463673</td>\n      <td>0.452490</td>\n      <td>0.916163</td>\n    </tr>\n    <tr>\n      <th>ub</th>\n      <td>0.483343</td>\n      <td>0.472132</td>\n      <td>0.955474</td>\n    </tr>\n    <tr>\n      <th rowspan=\"3\" valign=\"top\">ccb</th>\n      <th>est</th>\n      <td>0.473500</td>\n      <td>0.462300</td>\n      <td>0.935800</td>\n    </tr>\n    <tr>\n      <th>lb</th>\n      <td>0.463714</td>\n      <td>0.452528</td>\n      <td>0.916242</td>\n    </tr>\n    <tr>\n      <th>ub</th>\n      <td>0.483286</td>\n      <td>0.472072</td>\n      <td>0.955358</td>\n    </tr>\n  </tbody>\n</table>\n</div>"
     },
     "execution_count": 10,
     "metadata": {},
     "output_type": "execute_result"
    }
   ],
   "source": [
    "sim_br.predict(baseline_random)\n",
    "sim_br.cfe(alpha=0.05)"
   ],
   "metadata": {
    "collapsed": false,
    "pycharm": {
     "name": "#%%\n"
    }
   }
  },
  {
   "cell_type": "code",
   "execution_count": 11,
   "outputs": [
    {
     "data": {
      "text/plain": "               slot_0    slot_1  all_slots\nname metric                               \ncb   est     0.723100  0.434700   1.157800\n     lb      0.714216  0.424954   1.139170\n     ub      0.731854  0.444484   1.176338\nccb  est     0.723100  0.434700   1.157800\n     lb      0.714330  0.424984   1.139314\n     ub      0.731870  0.444416   1.176286",
      "text/html": "<div>\n<style scoped>\n    .dataframe tbody tr th:only-of-type {\n        vertical-align: middle;\n    }\n\n    .dataframe tbody tr th {\n        vertical-align: top;\n    }\n\n    .dataframe thead th {\n        text-align: right;\n    }\n</style>\n<table border=\"1\" class=\"dataframe\">\n  <thead>\n    <tr style=\"text-align: right;\">\n      <th></th>\n      <th></th>\n      <th>slot_0</th>\n      <th>slot_1</th>\n      <th>all_slots</th>\n    </tr>\n    <tr>\n      <th>name</th>\n      <th>metric</th>\n      <th></th>\n      <th></th>\n      <th></th>\n    </tr>\n  </thead>\n  <tbody>\n    <tr>\n      <th rowspan=\"3\" valign=\"top\">cb</th>\n      <th>est</th>\n      <td>0.723100</td>\n      <td>0.434700</td>\n      <td>1.157800</td>\n    </tr>\n    <tr>\n      <th>lb</th>\n      <td>0.714216</td>\n      <td>0.424954</td>\n      <td>1.139170</td>\n    </tr>\n    <tr>\n      <th>ub</th>\n      <td>0.731854</td>\n      <td>0.444484</td>\n      <td>1.176338</td>\n    </tr>\n    <tr>\n      <th rowspan=\"3\" valign=\"top\">ccb</th>\n      <th>est</th>\n      <td>0.723100</td>\n      <td>0.434700</td>\n      <td>1.157800</td>\n    </tr>\n    <tr>\n      <th>lb</th>\n      <td>0.714330</td>\n      <td>0.424984</td>\n      <td>1.139314</td>\n    </tr>\n    <tr>\n      <th>ub</th>\n      <td>0.731870</td>\n      <td>0.444416</td>\n      <td>1.176286</td>\n    </tr>\n  </tbody>\n</table>\n</div>"
     },
     "execution_count": 11,
     "metadata": {},
     "output_type": "execute_result"
    }
   ],
   "source": [
    "sim_eg.predict(epsilon_greedy)\n",
    "sim_eg.cfe(alpha=0.05)"
   ],
   "metadata": {
    "collapsed": false,
    "pycharm": {
     "name": "#%%\n"
    }
   }
  },
  {
   "cell_type": "code",
   "execution_count": 12,
   "outputs": [
    {
     "data": {
      "text/plain": "               slot_0    slot_1  all_slots\nname metric                               \ncb   est     0.397143  0.823764   1.220907\n     lb      0.379261  0.108262   0.487523\n     ub      0.455477  0.121544   0.577021\nccb  est     0.397143  0.813694   1.210837\n     lb      0.359082  0.776742   1.135824\n     ub      0.435204  0.845568   1.280771",
      "text/html": "<div>\n<style scoped>\n    .dataframe tbody tr th:only-of-type {\n        vertical-align: middle;\n    }\n\n    .dataframe tbody tr th {\n        vertical-align: top;\n    }\n\n    .dataframe thead th {\n        text-align: right;\n    }\n</style>\n<table border=\"1\" class=\"dataframe\">\n  <thead>\n    <tr style=\"text-align: right;\">\n      <th></th>\n      <th></th>\n      <th>slot_0</th>\n      <th>slot_1</th>\n      <th>all_slots</th>\n    </tr>\n    <tr>\n      <th>name</th>\n      <th>metric</th>\n      <th></th>\n      <th></th>\n      <th></th>\n    </tr>\n  </thead>\n  <tbody>\n    <tr>\n      <th rowspan=\"3\" valign=\"top\">cb</th>\n      <th>est</th>\n      <td>0.397143</td>\n      <td>0.823764</td>\n      <td>1.220907</td>\n    </tr>\n    <tr>\n      <th>lb</th>\n      <td>0.379261</td>\n      <td>0.108262</td>\n      <td>0.487523</td>\n    </tr>\n    <tr>\n      <th>ub</th>\n      <td>0.455477</td>\n      <td>0.121544</td>\n      <td>0.577021</td>\n    </tr>\n    <tr>\n      <th rowspan=\"3\" valign=\"top\">ccb</th>\n      <th>est</th>\n      <td>0.397143</td>\n      <td>0.813694</td>\n      <td>1.210837</td>\n    </tr>\n    <tr>\n      <th>lb</th>\n      <td>0.359082</td>\n      <td>0.776742</td>\n      <td>1.135824</td>\n    </tr>\n    <tr>\n      <th>ub</th>\n      <td>0.435204</td>\n      <td>0.845568</td>\n      <td>1.280771</td>\n    </tr>\n  </tbody>\n</table>\n</div>"
     },
     "execution_count": 12,
     "metadata": {},
     "output_type": "execute_result"
    }
   ],
   "source": [
    "sim_eg.predict(baseline_1)\n",
    "sim_eg.cfe(alpha=0.05)"
   ],
   "metadata": {
    "collapsed": false,
    "pycharm": {
     "name": "#%%\n"
    }
   }
  },
  {
   "cell_type": "code",
   "execution_count": 13,
   "outputs": [
    {
     "data": {
      "text/plain": "               slot_0    slot_1  all_slots\nname metric                               \ncb   est     0.464995  0.341965   0.806960\n     lb      0.453566  0.314592   0.768158\n     ub      0.497813  0.356447   0.854261\nccb  est     0.469457  0.480807   0.950264\n     lb      0.452369  0.445497   0.897866\n     ub      0.486544  0.530558   1.017102",
      "text/html": "<div>\n<style scoped>\n    .dataframe tbody tr th:only-of-type {\n        vertical-align: middle;\n    }\n\n    .dataframe tbody tr th {\n        vertical-align: top;\n    }\n\n    .dataframe thead th {\n        text-align: right;\n    }\n</style>\n<table border=\"1\" class=\"dataframe\">\n  <thead>\n    <tr style=\"text-align: right;\">\n      <th></th>\n      <th></th>\n      <th>slot_0</th>\n      <th>slot_1</th>\n      <th>all_slots</th>\n    </tr>\n    <tr>\n      <th>name</th>\n      <th>metric</th>\n      <th></th>\n      <th></th>\n      <th></th>\n    </tr>\n  </thead>\n  <tbody>\n    <tr>\n      <th rowspan=\"3\" valign=\"top\">cb</th>\n      <th>est</th>\n      <td>0.464995</td>\n      <td>0.341965</td>\n      <td>0.806960</td>\n    </tr>\n    <tr>\n      <th>lb</th>\n      <td>0.453566</td>\n      <td>0.314592</td>\n      <td>0.768158</td>\n    </tr>\n    <tr>\n      <th>ub</th>\n      <td>0.497813</td>\n      <td>0.356447</td>\n      <td>0.854261</td>\n    </tr>\n    <tr>\n      <th rowspan=\"3\" valign=\"top\">ccb</th>\n      <th>est</th>\n      <td>0.469457</td>\n      <td>0.480807</td>\n      <td>0.950264</td>\n    </tr>\n    <tr>\n      <th>lb</th>\n      <td>0.452369</td>\n      <td>0.445497</td>\n      <td>0.897866</td>\n    </tr>\n    <tr>\n      <th>ub</th>\n      <td>0.486544</td>\n      <td>0.530558</td>\n      <td>1.017102</td>\n    </tr>\n  </tbody>\n</table>\n</div>"
     },
     "execution_count": 13,
     "metadata": {},
     "output_type": "execute_result"
    }
   ],
   "source": [
    "sim_eg.predict(baseline_random)\n",
    "sim_eg.cfe(alpha=0.05)"
   ],
   "metadata": {
    "collapsed": false,
    "pycharm": {
     "name": "#%%\n"
    }
   }
  },
  {
   "cell_type": "markdown",
   "source": [
    "## With slot dependencies"
   ],
   "metadata": {
    "collapsed": false,
    "pycharm": {
     "name": "#%% md\n"
    }
   }
  },
  {
   "cell_type": "code",
   "execution_count": 78,
   "outputs": [],
   "source": [
    "epsilon = 0.2\n",
    "\n",
    "rewards = np.array([\n",
    "    [0.4, 0.8, 0.2],\n",
    "    [0.2, 0.4, 0.8]])\n",
    "\n",
    "eg = EpsilonGreedy(epsilon)\n",
    "epsilon_greedy = [\n",
    "    (eg.explore(3), [               #0\n",
    "        (eg.explore(2), []),        #1\n",
    "        (eg.exploit(2), []),        #2\n",
    "    ]),\n",
    "    (eg.exploit(3), [               #1\n",
    "        (eg.explore(2), []),        #0\n",
    "        (eg.exploit(2), []),        #2\n",
    "    ]),\n",
    "    (eg.explore(3), [               #2\n",
    "        (eg.explore(2), []),        #0\n",
    "        (eg.exploit(2), []),        #1\n",
    "    ])\n",
    "]"
   ],
   "metadata": {
    "collapsed": false,
    "pycharm": {
     "name": "#%%\n"
    }
   }
  },
  {
   "cell_type": "code",
   "execution_count": 79,
   "outputs": [],
   "source": [
    "n = 10000\n",
    "sim_eg = CcbSimulation(n, rewards, epsilon_greedy)\n",
    "sim_b1 = CcbSimulation(n, rewards, baseline_1)\n",
    "sim_br = CcbSimulation(n, rewards, baseline_random)"
   ],
   "metadata": {
    "collapsed": false,
    "pycharm": {
     "name": "#%%\n"
    }
   }
  },
  {
   "cell_type": "code",
   "execution_count": 80,
   "outputs": [
    {
     "data": {
      "text/plain": "                policy  slot_0  slot_1  all_slots\n0  epsilon-greedy(0.2)  0.7373  0.7200     1.4573\n1           baseline_1  0.4002  0.3985     0.7987\n2      baseline_random  0.4601  0.4713     0.9314",
      "text/html": "<div>\n<style scoped>\n    .dataframe tbody tr th:only-of-type {\n        vertical-align: middle;\n    }\n\n    .dataframe tbody tr th {\n        vertical-align: top;\n    }\n\n    .dataframe thead th {\n        text-align: right;\n    }\n</style>\n<table border=\"1\" class=\"dataframe\">\n  <thead>\n    <tr style=\"text-align: right;\">\n      <th></th>\n      <th>policy</th>\n      <th>slot_0</th>\n      <th>slot_1</th>\n      <th>all_slots</th>\n    </tr>\n  </thead>\n  <tbody>\n    <tr>\n      <th>0</th>\n      <td>epsilon-greedy(0.2)</td>\n      <td>0.7373</td>\n      <td>0.7200</td>\n      <td>1.4573</td>\n    </tr>\n    <tr>\n      <th>1</th>\n      <td>baseline_1</td>\n      <td>0.4002</td>\n      <td>0.3985</td>\n      <td>0.7987</td>\n    </tr>\n    <tr>\n      <th>2</th>\n      <td>baseline_random</td>\n      <td>0.4601</td>\n      <td>0.4713</td>\n      <td>0.9314</td>\n    </tr>\n  </tbody>\n</table>\n</div>"
     },
     "execution_count": 80,
     "metadata": {},
     "output_type": "execute_result"
    }
   ],
   "source": [
    "simulation_stats = pd.DataFrame([\n",
    "    {'policy': f'epsilon-greedy({epsilon})', 'slot_0': sim_eg[sim_eg[\"slot\"]==0][\"r\"].mean(), 'slot_1': sim_eg[sim_eg[\"slot\"]==1][\"r\"].mean()},\n",
    "    {'policy': f'baseline_1', 'slot_0': sim_b1[sim_b1[\"slot\"]==0][\"r\"].mean(), 'slot_1': sim_b1[sim_b1[\"slot\"]==1][\"r\"].mean()},\n",
    "    {'policy': f'baseline_random', 'slot_0': sim_br[sim_b1[\"slot\"]==0][\"r\"].mean(), 'slot_1': sim_br[sim_b1[\"slot\"]==1][\"r\"].mean()},\n",
    "])\n",
    "simulation_stats['all_slots'] = simulation_stats['slot_0'] + simulation_stats['slot_1']\n",
    "simulation_stats"
   ],
   "metadata": {
    "collapsed": false,
    "pycharm": {
     "name": "#%%\n"
    }
   }
  },
  {
   "cell_type": "code",
   "execution_count": 81,
   "outputs": [
    {
     "data": {
      "text/plain": "               slot_0    slot_1  all_slots\nname metric                               \ncb   est     0.725579  0.635528   1.361107\n     lb      0.715363  0.624659   1.340023\n     ub      0.743687  0.650116   1.393803\nccb  est     0.724979  0.728159   1.453138\n     lb      0.709898  0.706250   1.416148\n     ub      0.737062  0.743152   1.480214",
      "text/html": "<div>\n<style scoped>\n    .dataframe tbody tr th:only-of-type {\n        vertical-align: middle;\n    }\n\n    .dataframe tbody tr th {\n        vertical-align: top;\n    }\n\n    .dataframe thead th {\n        text-align: right;\n    }\n</style>\n<table border=\"1\" class=\"dataframe\">\n  <thead>\n    <tr style=\"text-align: right;\">\n      <th></th>\n      <th></th>\n      <th>slot_0</th>\n      <th>slot_1</th>\n      <th>all_slots</th>\n    </tr>\n    <tr>\n      <th>name</th>\n      <th>metric</th>\n      <th></th>\n      <th></th>\n      <th></th>\n    </tr>\n  </thead>\n  <tbody>\n    <tr>\n      <th rowspan=\"3\" valign=\"top\">cb</th>\n      <th>est</th>\n      <td>0.725579</td>\n      <td>0.635528</td>\n      <td>1.361107</td>\n    </tr>\n    <tr>\n      <th>lb</th>\n      <td>0.715363</td>\n      <td>0.624659</td>\n      <td>1.340023</td>\n    </tr>\n    <tr>\n      <th>ub</th>\n      <td>0.743687</td>\n      <td>0.650116</td>\n      <td>1.393803</td>\n    </tr>\n    <tr>\n      <th rowspan=\"3\" valign=\"top\">ccb</th>\n      <th>est</th>\n      <td>0.724979</td>\n      <td>0.728159</td>\n      <td>1.453138</td>\n    </tr>\n    <tr>\n      <th>lb</th>\n      <td>0.709898</td>\n      <td>0.706250</td>\n      <td>1.416148</td>\n    </tr>\n    <tr>\n      <th>ub</th>\n      <td>0.737062</td>\n      <td>0.743152</td>\n      <td>1.480214</td>\n    </tr>\n  </tbody>\n</table>\n</div>"
     },
     "execution_count": 81,
     "metadata": {},
     "output_type": "execute_result"
    }
   ],
   "source": [
    "sim_br.predict(epsilon_greedy)\n",
    "sim_br.cfe(alpha=0.05)"
   ],
   "metadata": {
    "collapsed": false,
    "pycharm": {
     "name": "#%%\n"
    }
   }
  },
  {
   "cell_type": "code",
   "execution_count": 82,
   "outputs": [
    {
     "data": {
      "text/plain": "               slot_0    slot_1  all_slots\nname metric                               \ncb   est     0.380320  0.406430   0.786750\n     lb      0.361502  0.255761   0.617264\n     ub      0.394712  0.280510   0.675222\nccb  est     0.380807  0.401955   0.782761\n     lb      0.358487  0.363905   0.722392\n     ub      0.407851  0.446964   0.854815",
      "text/html": "<div>\n<style scoped>\n    .dataframe tbody tr th:only-of-type {\n        vertical-align: middle;\n    }\n\n    .dataframe tbody tr th {\n        vertical-align: top;\n    }\n\n    .dataframe thead th {\n        text-align: right;\n    }\n</style>\n<table border=\"1\" class=\"dataframe\">\n  <thead>\n    <tr style=\"text-align: right;\">\n      <th></th>\n      <th></th>\n      <th>slot_0</th>\n      <th>slot_1</th>\n      <th>all_slots</th>\n    </tr>\n    <tr>\n      <th>name</th>\n      <th>metric</th>\n      <th></th>\n      <th></th>\n      <th></th>\n    </tr>\n  </thead>\n  <tbody>\n    <tr>\n      <th rowspan=\"3\" valign=\"top\">cb</th>\n      <th>est</th>\n      <td>0.380320</td>\n      <td>0.406430</td>\n      <td>0.786750</td>\n    </tr>\n    <tr>\n      <th>lb</th>\n      <td>0.361502</td>\n      <td>0.255761</td>\n      <td>0.617264</td>\n    </tr>\n    <tr>\n      <th>ub</th>\n      <td>0.394712</td>\n      <td>0.280510</td>\n      <td>0.675222</td>\n    </tr>\n    <tr>\n      <th rowspan=\"3\" valign=\"top\">ccb</th>\n      <th>est</th>\n      <td>0.380807</td>\n      <td>0.401955</td>\n      <td>0.782761</td>\n    </tr>\n    <tr>\n      <th>lb</th>\n      <td>0.358487</td>\n      <td>0.363905</td>\n      <td>0.722392</td>\n    </tr>\n    <tr>\n      <th>ub</th>\n      <td>0.407851</td>\n      <td>0.446964</td>\n      <td>0.854815</td>\n    </tr>\n  </tbody>\n</table>\n</div>"
     },
     "execution_count": 82,
     "metadata": {},
     "output_type": "execute_result"
    }
   ],
   "source": [
    "sim_br.predict(baseline_1)\n",
    "sim_br.cfe(alpha=0.05)"
   ],
   "metadata": {
    "collapsed": false,
    "pycharm": {
     "name": "#%%\n"
    }
   }
  },
  {
   "cell_type": "code",
   "execution_count": 83,
   "outputs": [
    {
     "data": {
      "text/plain": "               slot_0    slot_1  all_slots\nname metric                               \ncb   est     0.460100  0.471300   0.931400\n     lb      0.450294  0.461476   0.911770\n     ub      0.469929  0.481141   0.951070\nccb  est     0.460100  0.471300   0.931400\n     lb      0.450331  0.461516   0.911847\n     ub      0.469869  0.481084   0.950953",
      "text/html": "<div>\n<style scoped>\n    .dataframe tbody tr th:only-of-type {\n        vertical-align: middle;\n    }\n\n    .dataframe tbody tr th {\n        vertical-align: top;\n    }\n\n    .dataframe thead th {\n        text-align: right;\n    }\n</style>\n<table border=\"1\" class=\"dataframe\">\n  <thead>\n    <tr style=\"text-align: right;\">\n      <th></th>\n      <th></th>\n      <th>slot_0</th>\n      <th>slot_1</th>\n      <th>all_slots</th>\n    </tr>\n    <tr>\n      <th>name</th>\n      <th>metric</th>\n      <th></th>\n      <th></th>\n      <th></th>\n    </tr>\n  </thead>\n  <tbody>\n    <tr>\n      <th rowspan=\"3\" valign=\"top\">cb</th>\n      <th>est</th>\n      <td>0.460100</td>\n      <td>0.471300</td>\n      <td>0.931400</td>\n    </tr>\n    <tr>\n      <th>lb</th>\n      <td>0.450294</td>\n      <td>0.461476</td>\n      <td>0.911770</td>\n    </tr>\n    <tr>\n      <th>ub</th>\n      <td>0.469929</td>\n      <td>0.481141</td>\n      <td>0.951070</td>\n    </tr>\n    <tr>\n      <th rowspan=\"3\" valign=\"top\">ccb</th>\n      <th>est</th>\n      <td>0.460100</td>\n      <td>0.471300</td>\n      <td>0.931400</td>\n    </tr>\n    <tr>\n      <th>lb</th>\n      <td>0.450331</td>\n      <td>0.461516</td>\n      <td>0.911847</td>\n    </tr>\n    <tr>\n      <th>ub</th>\n      <td>0.469869</td>\n      <td>0.481084</td>\n      <td>0.950953</td>\n    </tr>\n  </tbody>\n</table>\n</div>"
     },
     "execution_count": 83,
     "metadata": {},
     "output_type": "execute_result"
    }
   ],
   "source": [
    "sim_br.predict(baseline_random)\n",
    "sim_br.cfe(alpha=0.05)"
   ],
   "metadata": {
    "collapsed": false,
    "pycharm": {
     "name": "#%%\n"
    }
   }
  },
  {
   "cell_type": "code",
   "execution_count": 84,
   "outputs": [
    {
     "data": {
      "text/plain": "               slot_0    slot_1  all_slots\nname metric                               \ncb   est     0.737300  0.720000   1.457300\n     lb      0.728556  0.711087   1.439642\n     ub      0.745906  0.728785   1.474691\nccb  est     0.737300  0.720000   1.457300\n     lb      0.728674  0.711200   1.439874\n     ub      0.745926  0.728800   1.474726",
      "text/html": "<div>\n<style scoped>\n    .dataframe tbody tr th:only-of-type {\n        vertical-align: middle;\n    }\n\n    .dataframe tbody tr th {\n        vertical-align: top;\n    }\n\n    .dataframe thead th {\n        text-align: right;\n    }\n</style>\n<table border=\"1\" class=\"dataframe\">\n  <thead>\n    <tr style=\"text-align: right;\">\n      <th></th>\n      <th></th>\n      <th>slot_0</th>\n      <th>slot_1</th>\n      <th>all_slots</th>\n    </tr>\n    <tr>\n      <th>name</th>\n      <th>metric</th>\n      <th></th>\n      <th></th>\n      <th></th>\n    </tr>\n  </thead>\n  <tbody>\n    <tr>\n      <th rowspan=\"3\" valign=\"top\">cb</th>\n      <th>est</th>\n      <td>0.737300</td>\n      <td>0.720000</td>\n      <td>1.457300</td>\n    </tr>\n    <tr>\n      <th>lb</th>\n      <td>0.728556</td>\n      <td>0.711087</td>\n      <td>1.439642</td>\n    </tr>\n    <tr>\n      <th>ub</th>\n      <td>0.745906</td>\n      <td>0.728785</td>\n      <td>1.474691</td>\n    </tr>\n    <tr>\n      <th rowspan=\"3\" valign=\"top\">ccb</th>\n      <th>est</th>\n      <td>0.737300</td>\n      <td>0.720000</td>\n      <td>1.457300</td>\n    </tr>\n    <tr>\n      <th>lb</th>\n      <td>0.728674</td>\n      <td>0.711200</td>\n      <td>1.439874</td>\n    </tr>\n    <tr>\n      <th>ub</th>\n      <td>0.745926</td>\n      <td>0.728800</td>\n      <td>1.474726</td>\n    </tr>\n  </tbody>\n</table>\n</div>"
     },
     "execution_count": 84,
     "metadata": {},
     "output_type": "execute_result"
    }
   ],
   "source": [
    "sim_eg.predict(epsilon_greedy)\n",
    "sim_eg.cfe(alpha=0.05)"
   ],
   "metadata": {
    "collapsed": false,
    "pycharm": {
     "name": "#%%\n"
    }
   }
  },
  {
   "cell_type": "code",
   "execution_count": 85,
   "outputs": [
    {
     "data": {
      "text/plain": "               slot_0    slot_1  all_slots\nname metric                               \ncb   est     0.407307  0.352033   0.759340\n     lb      0.413261  0.035696   0.448958\n     ub      0.490170  0.063265   0.553435\nccb  est     0.407307  0.328947   0.736255\n     lb      0.368038  0.208528   0.576566\n     ub      0.446576  0.449367   0.895943",
      "text/html": "<div>\n<style scoped>\n    .dataframe tbody tr th:only-of-type {\n        vertical-align: middle;\n    }\n\n    .dataframe tbody tr th {\n        vertical-align: top;\n    }\n\n    .dataframe thead th {\n        text-align: right;\n    }\n</style>\n<table border=\"1\" class=\"dataframe\">\n  <thead>\n    <tr style=\"text-align: right;\">\n      <th></th>\n      <th></th>\n      <th>slot_0</th>\n      <th>slot_1</th>\n      <th>all_slots</th>\n    </tr>\n    <tr>\n      <th>name</th>\n      <th>metric</th>\n      <th></th>\n      <th></th>\n      <th></th>\n    </tr>\n  </thead>\n  <tbody>\n    <tr>\n      <th rowspan=\"3\" valign=\"top\">cb</th>\n      <th>est</th>\n      <td>0.407307</td>\n      <td>0.352033</td>\n      <td>0.759340</td>\n    </tr>\n    <tr>\n      <th>lb</th>\n      <td>0.413261</td>\n      <td>0.035696</td>\n      <td>0.448958</td>\n    </tr>\n    <tr>\n      <th>ub</th>\n      <td>0.490170</td>\n      <td>0.063265</td>\n      <td>0.553435</td>\n    </tr>\n    <tr>\n      <th rowspan=\"3\" valign=\"top\">ccb</th>\n      <th>est</th>\n      <td>0.407307</td>\n      <td>0.328947</td>\n      <td>0.736255</td>\n    </tr>\n    <tr>\n      <th>lb</th>\n      <td>0.368038</td>\n      <td>0.208528</td>\n      <td>0.576566</td>\n    </tr>\n    <tr>\n      <th>ub</th>\n      <td>0.446576</td>\n      <td>0.449367</td>\n      <td>0.895943</td>\n    </tr>\n  </tbody>\n</table>\n</div>"
     },
     "execution_count": 85,
     "metadata": {},
     "output_type": "execute_result"
    }
   ],
   "source": [
    "sim_eg.predict(baseline_1)\n",
    "sim_eg.cfe(alpha=0.05)"
   ],
   "metadata": {
    "collapsed": false,
    "pycharm": {
     "name": "#%%\n"
    }
   }
  },
  {
   "cell_type": "code",
   "execution_count": 86,
   "outputs": [
    {
     "data": {
      "text/plain": "               slot_0    slot_1  all_slots\nname metric                               \ncb   est     0.474866  0.493034   0.967900\n     lb      0.455329  0.465431   0.920760\n     ub      0.499583  0.509716   1.009300\nccb  est     0.475941  0.469529   0.945470\n     lb      0.459054  0.440879   0.899934\n     ub      0.496702  0.509045   1.005746",
      "text/html": "<div>\n<style scoped>\n    .dataframe tbody tr th:only-of-type {\n        vertical-align: middle;\n    }\n\n    .dataframe tbody tr th {\n        vertical-align: top;\n    }\n\n    .dataframe thead th {\n        text-align: right;\n    }\n</style>\n<table border=\"1\" class=\"dataframe\">\n  <thead>\n    <tr style=\"text-align: right;\">\n      <th></th>\n      <th></th>\n      <th>slot_0</th>\n      <th>slot_1</th>\n      <th>all_slots</th>\n    </tr>\n    <tr>\n      <th>name</th>\n      <th>metric</th>\n      <th></th>\n      <th></th>\n      <th></th>\n    </tr>\n  </thead>\n  <tbody>\n    <tr>\n      <th rowspan=\"3\" valign=\"top\">cb</th>\n      <th>est</th>\n      <td>0.474866</td>\n      <td>0.493034</td>\n      <td>0.967900</td>\n    </tr>\n    <tr>\n      <th>lb</th>\n      <td>0.455329</td>\n      <td>0.465431</td>\n      <td>0.920760</td>\n    </tr>\n    <tr>\n      <th>ub</th>\n      <td>0.499583</td>\n      <td>0.509716</td>\n      <td>1.009300</td>\n    </tr>\n    <tr>\n      <th rowspan=\"3\" valign=\"top\">ccb</th>\n      <th>est</th>\n      <td>0.475941</td>\n      <td>0.469529</td>\n      <td>0.945470</td>\n    </tr>\n    <tr>\n      <th>lb</th>\n      <td>0.459054</td>\n      <td>0.440879</td>\n      <td>0.899934</td>\n    </tr>\n    <tr>\n      <th>ub</th>\n      <td>0.496702</td>\n      <td>0.509045</td>\n      <td>1.005746</td>\n    </tr>\n  </tbody>\n</table>\n</div>"
     },
     "execution_count": 86,
     "metadata": {},
     "output_type": "execute_result"
    }
   ],
   "source": [
    "sim_eg.predict(baseline_random)\n",
    "sim_eg.cfe(alpha=0.05)"
   ],
   "metadata": {
    "collapsed": false,
    "pycharm": {
     "name": "#%%\n"
    }
   }
  },
  {
   "cell_type": "markdown",
   "source": [
    "## Locked content"
   ],
   "metadata": {
    "collapsed": false,
    "pycharm": {
     "name": "#%% md\n"
    }
   }
  },
  {
   "cell_type": "code",
   "execution_count": 71,
   "outputs": [],
   "source": [
    "epsilon = 0.2\n",
    "\n",
    "rewards = np.array([\n",
    "    [0.4, 0.8, 0.2],\n",
    "    [0.4, 0.8, 0.2]])\n",
    "\n",
    "eg = EpsilonGreedy(epsilon)\n",
    "epsilon_greedy_lock0 = [\n",
    "    (0, [               #0\n",
    "        (eg.exploit(2), []),        #1\n",
    "        (eg.explore(2), []),        #2\n",
    "    ]),\n",
    "    (1, [               #1\n",
    "        (eg.exploit(2), []),        #0\n",
    "        (eg.explore(2), []),        #2\n",
    "    ]),\n",
    "    (0, [               #2\n",
    "        (eg.explore(2), []),        #0\n",
    "        (eg.exploit(2), []),        #1\n",
    "    ])\n",
    "]\n",
    "\n",
    "baseline_random = [\n",
    "    (1/3, [\n",
    "        (1/2, []),\n",
    "        (1/2, []),\n",
    "    ]),\n",
    "    (1/3, [\n",
    "        (1/2, []),\n",
    "        (1/2, []),\n",
    "    ]),\n",
    "    (1/3, [\n",
    "        (1/2, []),\n",
    "        (1/2, []),\n",
    "    ])\n",
    "]\n",
    "\n",
    "baseline_1 = [\n",
    "    (1, [\n",
    "        (1, []),\n",
    "        (0, []),\n",
    "    ]),\n",
    "    (0, [\n",
    "        (0, []),\n",
    "        (0, []),\n",
    "    ]),\n",
    "    (0, [\n",
    "        (0, []),\n",
    "        (1, []),\n",
    "    ])\n",
    "]"
   ],
   "metadata": {
    "collapsed": false,
    "pycharm": {
     "name": "#%%\n"
    }
   }
  },
  {
   "cell_type": "code",
   "execution_count": 72,
   "outputs": [],
   "source": [
    "n = 10000\n",
    "sim_eg_lock0 = CcbSimulation(n, rewards, epsilon_greedy_lock0)\n",
    "sim_b1 = CcbSimulation(n, rewards, baseline_1)\n",
    "sim_br = CcbSimulation(n, rewards, baseline_random)"
   ],
   "metadata": {
    "collapsed": false,
    "pycharm": {
     "name": "#%%\n"
    }
   }
  },
  {
   "cell_type": "code",
   "execution_count": 74,
   "outputs": [
    {
     "data": {
      "text/plain": "                      policy  slot_0  slot_1  all_slots\n0  epsilon-greedy_lock0(0.2)  0.8044  0.3715     1.1759\n1                 baseline_1  0.4031  0.8059     1.2090\n2            baseline_random  0.4697  0.4640     0.9337",
      "text/html": "<div>\n<style scoped>\n    .dataframe tbody tr th:only-of-type {\n        vertical-align: middle;\n    }\n\n    .dataframe tbody tr th {\n        vertical-align: top;\n    }\n\n    .dataframe thead th {\n        text-align: right;\n    }\n</style>\n<table border=\"1\" class=\"dataframe\">\n  <thead>\n    <tr style=\"text-align: right;\">\n      <th></th>\n      <th>policy</th>\n      <th>slot_0</th>\n      <th>slot_1</th>\n      <th>all_slots</th>\n    </tr>\n  </thead>\n  <tbody>\n    <tr>\n      <th>0</th>\n      <td>epsilon-greedy_lock0(0.2)</td>\n      <td>0.8044</td>\n      <td>0.3715</td>\n      <td>1.1759</td>\n    </tr>\n    <tr>\n      <th>1</th>\n      <td>baseline_1</td>\n      <td>0.4031</td>\n      <td>0.8059</td>\n      <td>1.2090</td>\n    </tr>\n    <tr>\n      <th>2</th>\n      <td>baseline_random</td>\n      <td>0.4697</td>\n      <td>0.4640</td>\n      <td>0.9337</td>\n    </tr>\n  </tbody>\n</table>\n</div>"
     },
     "execution_count": 74,
     "metadata": {},
     "output_type": "execute_result"
    }
   ],
   "source": [
    "simulation_stats = pd.DataFrame([\n",
    "    {'policy': f'epsilon-greedy_lock0({epsilon})', 'slot_0': sim_eg_lock0[sim_eg_lock0[\"slot\"]==0][\"r\"].mean(), 'slot_1': sim_eg_lock0[sim_eg_lock0[\"slot\"]==1][\"r\"].mean()},\n",
    "    {'policy': f'baseline_1', 'slot_0': sim_b1[sim_b1[\"slot\"]==0][\"r\"].mean(), 'slot_1': sim_b1[sim_b1[\"slot\"]==1][\"r\"].mean()},\n",
    "    {'policy': f'baseline_random', 'slot_0': sim_br[sim_b1[\"slot\"]==0][\"r\"].mean(), 'slot_1': sim_br[sim_b1[\"slot\"]==1][\"r\"].mean()},\n",
    "])\n",
    "simulation_stats['all_slots'] = simulation_stats['slot_0'] + simulation_stats['slot_1']\n",
    "simulation_stats"
   ],
   "metadata": {
    "collapsed": false,
    "pycharm": {
     "name": "#%%\n"
    }
   }
  },
  {
   "cell_type": "code",
   "execution_count": 75,
   "outputs": [
    {
     "data": {
      "text/plain": "               slot_0    slot_1  all_slots\nname metric                               \ncb   est     0.804400  0.371500   1.175900\n     lb      0.796487  0.362018   1.158505\n     ub      0.812135  0.381057   1.193192\nccb  est     0.804400  0.371500   1.175900\n     lb      0.796625  0.362029   1.158655\n     ub      0.812175  0.380971   1.193145",
      "text/html": "<div>\n<style scoped>\n    .dataframe tbody tr th:only-of-type {\n        vertical-align: middle;\n    }\n\n    .dataframe tbody tr th {\n        vertical-align: top;\n    }\n\n    .dataframe thead th {\n        text-align: right;\n    }\n</style>\n<table border=\"1\" class=\"dataframe\">\n  <thead>\n    <tr style=\"text-align: right;\">\n      <th></th>\n      <th></th>\n      <th>slot_0</th>\n      <th>slot_1</th>\n      <th>all_slots</th>\n    </tr>\n    <tr>\n      <th>name</th>\n      <th>metric</th>\n      <th></th>\n      <th></th>\n      <th></th>\n    </tr>\n  </thead>\n  <tbody>\n    <tr>\n      <th rowspan=\"3\" valign=\"top\">cb</th>\n      <th>est</th>\n      <td>0.804400</td>\n      <td>0.371500</td>\n      <td>1.175900</td>\n    </tr>\n    <tr>\n      <th>lb</th>\n      <td>0.796487</td>\n      <td>0.362018</td>\n      <td>1.158505</td>\n    </tr>\n    <tr>\n      <th>ub</th>\n      <td>0.812135</td>\n      <td>0.381057</td>\n      <td>1.193192</td>\n    </tr>\n    <tr>\n      <th rowspan=\"3\" valign=\"top\">ccb</th>\n      <th>est</th>\n      <td>0.804400</td>\n      <td>0.371500</td>\n      <td>1.175900</td>\n    </tr>\n    <tr>\n      <th>lb</th>\n      <td>0.796625</td>\n      <td>0.362029</td>\n      <td>1.158655</td>\n    </tr>\n    <tr>\n      <th>ub</th>\n      <td>0.812175</td>\n      <td>0.380971</td>\n      <td>1.193145</td>\n    </tr>\n  </tbody>\n</table>\n</div>"
     },
     "execution_count": 75,
     "metadata": {},
     "output_type": "execute_result"
    }
   ],
   "source": [
    "sim_eg_lock0.predict(epsilon_greedy)\n",
    "sim_eg_lock0.cfe(alpha=0.05)"
   ],
   "metadata": {
    "collapsed": false,
    "pycharm": {
     "name": "#%%\n"
    }
   }
  },
  {
   "cell_type": "code",
   "execution_count": 76,
   "outputs": [
    {
     "data": {
      "text/plain": "             slot_0  slot_1  all_slots\nname metric                           \ncb   est     0.0000  0.0000     0.0000\n     lb      0.0000  0.0000     0.0000\n     ub      0.0000  0.0000     0.0000\nccb  est     0.8044  0.3715     1.1759\n     lb      0.0000  0.0000     0.0000\n     ub      1.0000  1.0000     2.0000",
      "text/html": "<div>\n<style scoped>\n    .dataframe tbody tr th:only-of-type {\n        vertical-align: middle;\n    }\n\n    .dataframe tbody tr th {\n        vertical-align: top;\n    }\n\n    .dataframe thead th {\n        text-align: right;\n    }\n</style>\n<table border=\"1\" class=\"dataframe\">\n  <thead>\n    <tr style=\"text-align: right;\">\n      <th></th>\n      <th></th>\n      <th>slot_0</th>\n      <th>slot_1</th>\n      <th>all_slots</th>\n    </tr>\n    <tr>\n      <th>name</th>\n      <th>metric</th>\n      <th></th>\n      <th></th>\n      <th></th>\n    </tr>\n  </thead>\n  <tbody>\n    <tr>\n      <th rowspan=\"3\" valign=\"top\">cb</th>\n      <th>est</th>\n      <td>0.0000</td>\n      <td>0.0000</td>\n      <td>0.0000</td>\n    </tr>\n    <tr>\n      <th>lb</th>\n      <td>0.0000</td>\n      <td>0.0000</td>\n      <td>0.0000</td>\n    </tr>\n    <tr>\n      <th>ub</th>\n      <td>0.0000</td>\n      <td>0.0000</td>\n      <td>0.0000</td>\n    </tr>\n    <tr>\n      <th rowspan=\"3\" valign=\"top\">ccb</th>\n      <th>est</th>\n      <td>0.8044</td>\n      <td>0.3715</td>\n      <td>1.1759</td>\n    </tr>\n    <tr>\n      <th>lb</th>\n      <td>0.0000</td>\n      <td>0.0000</td>\n      <td>0.0000</td>\n    </tr>\n    <tr>\n      <th>ub</th>\n      <td>1.0000</td>\n      <td>1.0000</td>\n      <td>2.0000</td>\n    </tr>\n  </tbody>\n</table>\n</div>"
     },
     "execution_count": 76,
     "metadata": {},
     "output_type": "execute_result"
    }
   ],
   "source": [
    "sim_eg_lock0.predict(baseline_1)\n",
    "sim_eg_lock0.cfe(alpha=0.05)"
   ],
   "metadata": {
    "collapsed": false,
    "pycharm": {
     "name": "#%%\n"
    }
   }
  },
  {
   "cell_type": "code",
   "execution_count": 77,
   "outputs": [
    {
     "data": {
      "text/plain": "               slot_0    slot_1  all_slots\nname metric                               \ncb   est     0.804400  0.292730   1.097130\n     lb      0.263127  0.275783   0.538909\n     ub      0.273185  0.316262   0.589447\nccb  est     0.804400  0.344975   1.149375\n     lb      0.265542  0.093847   0.359389\n     ub      0.937392  0.770385   1.707776",
      "text/html": "<div>\n<style scoped>\n    .dataframe tbody tr th:only-of-type {\n        vertical-align: middle;\n    }\n\n    .dataframe tbody tr th {\n        vertical-align: top;\n    }\n\n    .dataframe thead th {\n        text-align: right;\n    }\n</style>\n<table border=\"1\" class=\"dataframe\">\n  <thead>\n    <tr style=\"text-align: right;\">\n      <th></th>\n      <th></th>\n      <th>slot_0</th>\n      <th>slot_1</th>\n      <th>all_slots</th>\n    </tr>\n    <tr>\n      <th>name</th>\n      <th>metric</th>\n      <th></th>\n      <th></th>\n      <th></th>\n    </tr>\n  </thead>\n  <tbody>\n    <tr>\n      <th rowspan=\"3\" valign=\"top\">cb</th>\n      <th>est</th>\n      <td>0.804400</td>\n      <td>0.292730</td>\n      <td>1.097130</td>\n    </tr>\n    <tr>\n      <th>lb</th>\n      <td>0.263127</td>\n      <td>0.275783</td>\n      <td>0.538909</td>\n    </tr>\n    <tr>\n      <th>ub</th>\n      <td>0.273185</td>\n      <td>0.316262</td>\n      <td>0.589447</td>\n    </tr>\n    <tr>\n      <th rowspan=\"3\" valign=\"top\">ccb</th>\n      <th>est</th>\n      <td>0.804400</td>\n      <td>0.344975</td>\n      <td>1.149375</td>\n    </tr>\n    <tr>\n      <th>lb</th>\n      <td>0.265542</td>\n      <td>0.093847</td>\n      <td>0.359389</td>\n    </tr>\n    <tr>\n      <th>ub</th>\n      <td>0.937392</td>\n      <td>0.770385</td>\n      <td>1.707776</td>\n    </tr>\n  </tbody>\n</table>\n</div>"
     },
     "execution_count": 77,
     "metadata": {},
     "output_type": "execute_result"
    }
   ],
   "source": [
    "sim_eg_lock0.predict(baseline_random)\n",
    "sim_eg_lock0.cfe(alpha=0.05)"
   ],
   "metadata": {
    "collapsed": false,
    "pycharm": {
     "name": "#%%\n"
    }
   }
  },
  {
   "cell_type": "code",
   "execution_count": null,
   "outputs": [],
   "source": [],
   "metadata": {
    "collapsed": false,
    "pycharm": {
     "name": "#%%\n"
    }
   }
  }
 ],
 "metadata": {
  "kernelspec": {
   "display_name": "Python 3 (ipykernel)",
   "language": "python",
   "name": "python3"
  },
  "language_info": {
   "codemirror_mode": {
    "name": "ipython",
    "version": 3
   },
   "file_extension": ".py",
   "mimetype": "text/x-python",
   "name": "python",
   "nbconvert_exporter": "python",
   "pygments_lexer": "ipython3",
   "version": "3.9.5"
  }
 },
 "nbformat": 4,
 "nbformat_minor": 5
}