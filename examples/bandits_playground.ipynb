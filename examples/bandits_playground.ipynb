{
 "cells": [
  {
   "cell_type": "markdown",
   "metadata": {},
   "source": [
    "# Helpers"
   ]
  },
  {
   "cell_type": "code",
   "execution_count": 10,
   "metadata": {},
   "outputs": [],
   "source": [
    "from estimators.bandits import clopper_pearson, gaussian, cressieread\n",
    "import scipy\n",
    "import random\n",
    "\n",
    "\n",
    "def _evaluate(data, estimator, alpha):\n",
    "    for _, ex in data.iterrows():\n",
    "        estimator.add_example(**ex)\n",
    "    return estimator.get(alpha)\n",
    "\n",
    "\n",
    "def evaluate(data, rmin, rmax, alpha):\n",
    "    return [\n",
    "        (\n",
    "            \"cressieread\",\n",
    "            _evaluate(data, cressieread.Interval(rmin=rmin, rmax=rmax), alpha),\n",
    "        ),\n",
    "        (\"gaussian\", _evaluate(data, gaussian.Interval(), alpha)),\n",
    "        (\"clopper_pearson\", _evaluate(data, clopper_pearson.Interval(), alpha)),\n",
    "    ]"
   ]
  },
  {
   "cell_type": "markdown",
   "metadata": {},
   "source": [
    "# Define simulator"
   ]
  },
  {
   "cell_type": "code",
   "execution_count": null,
   "metadata": {},
   "outputs": [],
   "source": [
    "import numpy as np\n",
    "import pandas as pd\n",
    "import matplotlib.pyplot as plt\n",
    "from ipywidgets import *\n",
    "\n",
    "\n",
    "def simulator(n, epsilon, variance):\n",
    "    for i in range(n):\n",
    "        chosen = i % 2\n",
    "        noise = (random.random() - 0.5) * variance\n",
    "        yield {\n",
    "            \"p_log\": 0.5,\n",
    "            \"p_pred\": 1 - epsilon if chosen == 0 else epsilon,\n",
    "            \"r\": 1 + noise if chosen == 0 else noise,\n",
    "        }\n",
    "\n",
    "\n",
    "class CiPlayground:\n",
    "    def __init__(self):\n",
    "        def test(**kwargs):\n",
    "            rmin = kwargs.pop(\"rmin\")\n",
    "            rmax = kwargs.pop(\"rmax\")\n",
    "            alpha = kwargs.pop(\"alpha\")\n",
    "            self.data = pd.DataFrame(simulator(**kwargs))\n",
    "            self.result = evaluate(self.data, rmin=rmin, rmax=rmax, alpha=alpha)\n",
    "            plt.boxplot(\n",
    "                [r[1] for r in self.result], whis=0, labels=[r[0] for r in self.result]\n",
    "            )\n",
    "\n",
    "        interact(\n",
    "            test,\n",
    "            rmin=FloatSlider(min=-100, value=1, max=0, step=0.01),\n",
    "            rmax=FloatSlider(min=0, value=1, max=10, step=0.01),\n",
    "            alpha=FloatSlider(min=0, max=1, step=0.01, value=0.05),\n",
    "            n=IntSlider(min=0, max=100, value=1000),\n",
    "            epsilon=FloatSlider(min=0, max=1, step=0.1, value=0.1),\n",
    "            variance=FloatSlider(min=0, max=10, value=0),\n",
    "        )"
   ]
  },
  {
   "cell_type": "markdown",
   "metadata": {},
   "source": [
    "# Interact"
   ]
  },
  {
   "cell_type": "code",
   "execution_count": 45,
   "metadata": {},
   "outputs": [
    {
     "data": {
      "application/vnd.jupyter.widget-view+json": {
       "model_id": "903a8249a36c4f08b70eeb31324f2b30",
       "version_major": 2,
       "version_minor": 0
      },
      "text/plain": [
       "interactive(children=(FloatSlider(value=0.0, description='rmin', max=0.0, min=-100.0, step=0.01), FloatSlider(…"
      ]
     },
     "metadata": {},
     "output_type": "display_data"
    }
   ],
   "source": [
    "playground = CiPlayground()"
   ]
  },
  {
   "cell_type": "code",
   "execution_count": 46,
   "metadata": {},
   "outputs": [
    {
     "data": {
      "text/plain": [
       "[('cressieread', [0.8811755457962163, 1.2347767819839865]),\n",
       " ('gaussian', [0.867188624508888, 1.1818234382689699]),\n",
       " ('clopper_pearson', [nan, nan])]"
      ]
     },
     "execution_count": 46,
     "metadata": {},
     "output_type": "execute_result"
    }
   ],
   "source": [
    "playground.result"
   ]
  },
  {
   "cell_type": "code",
   "execution_count": null,
   "metadata": {},
   "outputs": [],
   "source": []
  }
 ],
 "metadata": {
  "interpreter": {
   "hash": "e6d91e144c1e8b75ccdd4259c6213e15c7f5d1d664ef01abea10605a34f365c2"
  },
  "kernelspec": {
   "display_name": "Python 3 (ipykernel)",
   "language": "python",
   "name": "python3"
  },
  "language_info": {
   "codemirror_mode": {
    "name": "ipython",
    "version": 3
   },
   "file_extension": ".py",
   "mimetype": "text/x-python",
   "name": "python",
   "nbconvert_exporter": "python",
   "pygments_lexer": "ipython3",
   "version": "3.9.5"
  }
 },
 "nbformat": 4,
 "nbformat_minor": 4
}
